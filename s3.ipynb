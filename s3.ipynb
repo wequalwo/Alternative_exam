{
 "cells": [
  {
   "cell_type": "code",
   "execution_count": 2,
   "id": "5b1dd9f6",
   "metadata": {},
   "outputs": [
    {
     "name": "stdout",
     "output_type": "stream",
     "text": [
      "Collecting pandas\n",
      "  Downloading pandas-1.4.2-cp310-cp310-win_amd64.whl (10.6 MB)\n",
      "     ---------------------------------------- 10.6/10.6 MB 9.2 MB/s eta 0:00:00\n",
      "Requirement already satisfied: pytz>=2020.1 in c:\\users\\wequalwo\\appdata\\local\\programs\\python\\python310\\lib\\site-packages (from pandas) (2022.1)\n",
      "Requirement already satisfied: python-dateutil>=2.8.1 in c:\\users\\wequalwo\\appdata\\local\\programs\\python\\python310\\lib\\site-packages (from pandas) (2.8.2)\n",
      "Requirement already satisfied: numpy>=1.21.0 in c:\\users\\wequalwo\\appdata\\local\\programs\\python\\python310\\lib\\site-packages (from pandas) (1.22.3)\n",
      "Requirement already satisfied: six>=1.5 in c:\\users\\wequalwo\\appdata\\local\\programs\\python\\python310\\lib\\site-packages (from python-dateutil>=2.8.1->pandas) (1.16.0)\n",
      "Installing collected packages: pandas\n",
      "Successfully installed pandas-1.4.2\n"
     ]
    }
   ],
   "source": [
    "!pip install pandas"
   ]
  },
  {
   "cell_type": "code",
   "execution_count": 4,
   "id": "5cfd443b",
   "metadata": {},
   "outputs": [
    {
     "name": "stdout",
     "output_type": "stream",
     "text": [
      "Collecting nltk\n",
      "  Downloading nltk-3.7-py3-none-any.whl (1.5 MB)\n",
      "     ---------------------------------------- 1.5/1.5 MB 5.6 MB/s eta 0:00:00\n",
      "Collecting joblib\n",
      "  Downloading joblib-1.1.0-py2.py3-none-any.whl (306 kB)\n",
      "     -------------------------------------- 307.0/307.0 KB 6.3 MB/s eta 0:00:00\n",
      "Collecting regex>=2021.8.3\n",
      "  Downloading regex-2022.4.24-cp310-cp310-win_amd64.whl (262 kB)\n",
      "     ------------------------------------- 262.0/262.0 KB 16.8 MB/s eta 0:00:00\n",
      "Collecting click\n",
      "  Downloading click-8.1.3-py3-none-any.whl (96 kB)\n",
      "     ---------------------------------------- 96.6/96.6 KB 5.4 MB/s eta 0:00:00\n",
      "Collecting tqdm\n",
      "  Downloading tqdm-4.64.0-py2.py3-none-any.whl (78 kB)\n",
      "     ---------------------------------------- 78.4/78.4 KB 4.5 MB/s eta 0:00:00\n",
      "Requirement already satisfied: colorama in c:\\users\\wequalwo\\appdata\\local\\programs\\python\\python310\\lib\\site-packages (from click->nltk) (0.4.4)\n",
      "Installing collected packages: tqdm, regex, joblib, click, nltk\n",
      "Successfully installed click-8.1.3 joblib-1.1.0 nltk-3.7 regex-2022.4.24 tqdm-4.64.0\n"
     ]
    }
   ],
   "source": [
    "!pip install nltk"
   ]
  },
  {
   "cell_type": "code",
   "execution_count": 27,
   "id": "a89b9570",
   "metadata": {},
   "outputs": [
    {
     "name": "stdout",
     "output_type": "stream",
     "text": [
      "Collecting sklearn\n",
      "  Downloading sklearn-0.0.tar.gz (1.1 kB)\n",
      "  Preparing metadata (setup.py): started\n",
      "  Preparing metadata (setup.py): finished with status 'done'\n",
      "Collecting scikit-learn\n",
      "  Downloading scikit_learn-1.0.2-cp310-cp310-win_amd64.whl (7.2 MB)\n",
      "     ---------------------------------------- 7.2/7.2 MB 4.7 MB/s eta 0:00:00\n",
      "Requirement already satisfied: numpy>=1.14.6 in c:\\users\\wequalwo\\appdata\\local\\programs\\python\\python310\\lib\\site-packages (from scikit-learn->sklearn) (1.22.3)\n",
      "Collecting scipy>=1.1.0\n",
      "  Downloading scipy-1.8.0-cp310-cp310-win_amd64.whl (37.0 MB)\n",
      "     ---------------------------------------- 37.0/37.0 MB 4.5 MB/s eta 0:00:00\n",
      "Collecting threadpoolctl>=2.0.0\n",
      "  Downloading threadpoolctl-3.1.0-py3-none-any.whl (14 kB)\n",
      "Requirement already satisfied: joblib>=0.11 in c:\\users\\wequalwo\\appdata\\local\\programs\\python\\python310\\lib\\site-packages (from scikit-learn->sklearn) (1.1.0)\n",
      "Using legacy 'setup.py install' for sklearn, since package 'wheel' is not installed.\n",
      "Installing collected packages: threadpoolctl, scipy, scikit-learn, sklearn\n",
      "  Running setup.py install for sklearn: started\n",
      "  Running setup.py install for sklearn: finished with status 'done'\n",
      "Successfully installed scikit-learn-1.0.2 scipy-1.8.0 sklearn-0.0 threadpoolctl-3.1.0\n"
     ]
    }
   ],
   "source": [
    "!pip install sklearn"
   ]
  },
  {
   "cell_type": "code",
   "execution_count": 38,
   "id": "b43db559",
   "metadata": {},
   "outputs": [
    {
     "name": "stderr",
     "output_type": "stream",
     "text": [
      "[nltk_data] Downloading package stopwords to\n",
      "[nltk_data]     C:\\Users\\wequalwo\\AppData\\Roaming\\nltk_data...\n",
      "[nltk_data]   Package stopwords is already up-to-date!\n",
      "[nltk_data] Downloading package punkt to\n",
      "[nltk_data]     C:\\Users\\wequalwo\\AppData\\Roaming\\nltk_data...\n",
      "[nltk_data]   Package punkt is already up-to-date!\n"
     ]
    }
   ],
   "source": [
    "nltk.download('stopwords') # to use stopwords\n",
    "nltk.download('punkt') # to use word_tokenize\n",
    "\n",
    "import pandas as pd\n",
    "import numpy as np\n",
    "\n",
    "import nltk\n",
    "\n",
    "import re #регулярные выражения\n",
    "import math\n",
    "from collections import Counter\n",
    "import requests\n",
    "import time\n",
    "alphabet = 'абвгдеёжзийклмнопрстуфхцчшщъыьэюя'"
   ]
  },
  {
   "cell_type": "code",
   "execution_count": 52,
   "id": "73fee5d2",
   "metadata": {},
   "outputs": [],
   "source": [
    "# служебная функция для расчета занимаемой памяти \n",
    "BYTES_TO_MB_DIV = 0.000001\n",
    "def print_memory_usage_of_data_frame(df):\n",
    "    mem = round(df.memory_usage().sum() * BYTES_TO_MB_DIV, 3) \n",
    "    print(\"Memory usage is \" + str(mem) + \" MB\")"
   ]
  },
  {
   "cell_type": "code",
   "execution_count": 41,
   "id": "15c9ebc9",
   "metadata": {},
   "outputs": [
    {
     "name": "stdout",
     "output_type": "stream",
     "text": [
      "['Это', 'простое', 'предложение', 'показывает', 'фильтрацию', 'на', 'стоп-слова']\n",
      "['Это', 'простое', 'предложение', 'показывает', 'фильтрацию', 'стоп-слова']\n",
      "Стоп-слова русского языка:\n",
      "['и', 'в', 'во', 'не', 'что', 'он', 'на', 'я', 'с', 'со', 'как', 'а', 'то', 'все', 'она', 'так', 'его', 'но', 'да', 'ты', 'к', 'у', 'же', 'вы', 'за', 'бы', 'по', 'только', 'ее', 'мне', 'было', 'вот', 'от', 'меня', 'еще', 'нет', 'о', 'из', 'ему', 'теперь', 'когда', 'даже', 'ну', 'вдруг', 'ли', 'если', 'уже', 'или', 'ни', 'быть', 'был', 'него', 'до', 'вас', 'нибудь', 'опять', 'уж', 'вам', 'ведь', 'там', 'потом', 'себя', 'ничего', 'ей', 'может', 'они', 'тут', 'где', 'есть', 'надо', 'ней', 'для', 'мы', 'тебя', 'их', 'чем', 'была', 'сам', 'чтоб', 'без', 'будто', 'чего', 'раз', 'тоже', 'себе', 'под', 'будет', 'ж', 'тогда', 'кто', 'этот', 'того', 'потому', 'этого', 'какой', 'совсем', 'ним', 'здесь', 'этом', 'один', 'почти', 'мой', 'тем', 'чтобы', 'нее', 'сейчас', 'были', 'куда', 'зачем', 'всех', 'никогда', 'можно', 'при', 'наконец', 'два', 'об', 'другой', 'хоть', 'после', 'над', 'больше', 'тот', 'через', 'эти', 'нас', 'про', 'всего', 'них', 'какая', 'много', 'разве', 'три', 'эту', 'моя', 'впрочем', 'хорошо', 'свою', 'этой', 'перед', 'иногда', 'лучше', 'чуть', 'том', 'нельзя', 'такой', 'им', 'более', 'всегда', 'конечно', 'всю', 'между']\n"
     ]
    }
   ],
   "source": [
    "# десмонтсранция идеи токенизации и стоп-слов\n",
    "from nltk.tokenize import sent_tokenize, word_tokenize\n",
    "from nltk.corpus import stopwords as stopwords\n",
    "from nltk.tokenize import word_tokenize\n",
    "\n",
    "example_sent = \"\"\"Это простое предложение показывает фильтрацию на стоп-слова\"\"\"\n",
    " \n",
    "stop_words = set(stopwords.words('russian'))\n",
    "word_tokens = word_tokenize(example_sent)\n",
    "filtered_sentence = [w for w in word_tokens if not w.lower() in stop_words]\n",
    "filtered_sentence = []\n",
    " \n",
    "for w in word_tokens:\n",
    "    if w not in stop_words:\n",
    "        filtered_sentence.append(w)\n",
    " \n",
    "print(word_tokens)\n",
    "print(filtered_sentence)\n",
    "\n",
    "from nltk.corpus import stopwords\n",
    "print(\"Стоп-слова русского языка:\")\n",
    "print(stopwords.words('russian'))"
   ]
  },
  {
   "cell_type": "markdown",
   "id": "bbeb98bc",
   "metadata": {},
   "source": [
    "## Создадим функции, позволяющие генерировать следующие ошибки в словах:\n",
    "\n",
    "1.   **Пропуск буквы:** ${резонанс - рзонанс}$\n",
    "2.   **Дублирование буквы:** ${резонанс - реезонанс}$\n",
    "3.   **Перестановка букв:** ${резонанс - рзеонанс}$\n",
    "4.   **Опечатка:** ${резонанс - ркзонанс}$\n",
    "5.   **Некоторые орфографические ошибки:**  ${резонанс - ризонанс}$\n"
   ]
  },
  {
   "cell_type": "code",
   "execution_count": 42,
   "id": "92be3754",
   "metadata": {},
   "outputs": [],
   "source": [
    "# все ошибки на расстоянии 2 (расстояние Левинштейна)\n",
    "def distance2(word):\n",
    "  return {e2 for e1 in distance1(word) if e1 for e2 in distance1(e1)}\n",
    "\n",
    "# все ошибки на расстоянии 1 (расстояние Левинштейна)\n",
    "def distance1(word):\n",
    "    pairs      = splits(word)\n",
    "    transposes = [a+b[1]+b[0]+b[2:]  for (a,b) in pairs if len(b)>1]                           # перестановки\n",
    "    replaces   = [a+c+b[1:]          for (a,b) in pairs if b for c in replaces_set[b[0]] if b] # замены: \n",
    "                                                                                                        # опечатки, \n",
    "                                                                                                        # пропуски и дублирования букв, \n",
    "                                                                                                        # орфографические ошибки\n",
    "\n",
    "    last_replaces = [word[0:-1] + c for c in replaces_set[word[-1]]]                           # замены в конце слова\n",
    "    return set(transposes + replaces + last_replaces)\n",
    "\n",
    "def splits(word):\n",
    "    return [(word[:i], word[i:])\n",
    "            for i in range (len(word)+1)]\n",
    "\n",
    "# список возможных замен в слове\n",
    "replaces_set = pd.Series([          \n",
    "               ['с', 'в', 'у', 'к', 'е', 'п', 'м', 'о', 'аа', ''],\n",
    "               ['ь', 'о', 'л', 'д', 'ж', 'ю', 'п', 'бб', ''],\n",
    "               ['ч', 'ы', 'ц', 'у', 'к', 'а', 'с', 'вв', 'ф', ''],\n",
    "               ['р', 'н', 'ш', 'л', 'о', 'гг', 'к', ''],\n",
    "               ['б', 'л', 'ш', 'щ', 'з', 'ж', 'ю', 'дд', 'т', ''],\n",
    "               ['а', 'к', 'н', 'р', 'п', 'ее', 'и', 'ё', 'о', ''],\n",
    "               ['ёё', 'й', 'йо', 'е', ''],\n",
    "               ['ю', 'д', 'щ', 'з', 'х', 'э', 'жж', 'ш', ''],\n",
    "               ['д', 'щ', 'х', 'э', 'ж', 'зз', 'с', ''],\n",
    "               ['м', 'а', 'п', 'р', 'т', 'ии', 'е', 'ы', ''],\n",
    "               ['ц', 'ы', 'ф', 'йй',''],\n",
    "               ['а', 'в', 'у', 'е', 'п', 'п', 'а', 'кк', 'г', ''],\n",
    "               ['ь', 'о', 'г', 'ш', 'щ', 'д', 'б', 'лл', ''],\n",
    "               ['с', 'а', 'п', 'и', 'мм', 'н', ''],\n",
    "               ['р', 'п', 'е', 'г', 'о', 'нн', 'м', ''],\n",
    "               ['т', 'р', 'н', 'г', 'ш', 'л', 'ь', 'оо', 'а', 'е', 'ё', 'у', ''],\n",
    "               ['м', 'а', 'к', 'е', 'н', 'р', 'и', 'пп', 'б', ''],\n",
    "               ['и', 'п', 'е', 'н', 'г', 'о', 'т', 'рр', 'р', ''],\n",
    "               ['ч', 'в', 'а', 'м', 'сс', 'з', ''],\n",
    "               ['и', 'п', 'р', 'о', 'ь', 'тт', 'д', ''],\n",
    "               ['в', 'ы', 'ц', 'к', 'а', 'уу', 'ю', 'о', ''],\n",
    "               ['я', 'ч', 'ы', 'ц', 'й', 'фф', 'в', ''],\n",
    "               ['ж', 'з', 'ъ', 'э', 'хх', ''],\n",
    "               ['ы', 'ф', 'й', 'у', 'в', 'ы', 'цц', 'ч', ''],\n",
    "               ['я', 'ф', 'ы', 'в', 'с', 'чч', ''],\n",
    "               ['л', 'о', 'г', 'щ', 'д', 'шш', 'щ', 'шь', 'щь', 'ж', ''],\n",
    "               ['л', 'ш', 'з', 'ж', 'д', 'щщ', 'щь', 'шь', 'ж', ''],\n",
    "               ['э', 'х', 'ъъ', 'ь', ''],\n",
    "               ['ч', 'я', 'ф', 'й', 'ц', 'у', 'в', 'и', 'ыы', ''],\n",
    "               ['т', 'о', 'л', 'б', 'ьь', 'ъ', ''],\n",
    "               ['ж', 'з', 'х', 'ъ', ''],\n",
    "               ['б', 'л', 'д', 'ж', 'э', 'у', 'йу', ''],\n",
    "               ['ф', 'ы', 'ч', 'яя', 'а', 'йа', ''],\n",
    "               ], \n",
    "               index = ['а','б','в','г', 'д', 'е', 'ё', 'ж', 'з', 'и', 'й', 'к', 'л', 'м', 'н', 'о', 'п', 'р', 'с', 'т', 'у', 'ф', 'х', 'ц', 'ч', 'ш', 'щ', 'ъ', 'ы', 'ь', 'э', 'ю', 'я'])\n"
   ]
  },
  {
   "cell_type": "markdown",
   "id": "9b0e65f6",
   "metadata": {},
   "source": [
    "**Импортируем текст**"
   ]
  },
  {
   "cell_type": "code",
   "execution_count": 45,
   "id": "2a202440",
   "metadata": {},
   "outputs": [
    {
     "name": "stdout",
     "output_type": "stream",
     "text": [
      "['что', 'тот', 'быть', 'весь', 'это', 'как', 'она', 'они', 'так', 'сказать', 'этот', 'который', 'может', 'человек', 'один', 'еще', 'такой', 'только', 'себя', 'свое']\n"
     ]
    }
   ],
   "source": [
    "import codecs\n",
    "with codecs.open('top10000.txt', 'r', encoding='utf-8') as file:\n",
    "    TEXT = file.read().replace('\\n', ' ')\n",
    "\n",
    "def tokens(text):\n",
    "    return re.findall(r'[а-я]+', text.lower())\n",
    "list_of_words = tokens(TEXT)\n",
    "\n",
    "# удалим все слова, короче 3 символов (потому что слова из 2х символов неинформативны):\n",
    "tmp = [w for w in list_of_words if len(w) > 2]\n",
    "list_of_words = tmp\n",
    "\n",
    "# пока ограничимся 500 словами\n",
    "del list_of_words[500:]\n",
    "\n",
    "# выведем первые 20 слов\n",
    "print(list_of_words[:20])"
   ]
  },
  {
   "cell_type": "markdown",
   "id": "ed881d39",
   "metadata": {},
   "source": [
    "**Для каждого слова рассчитаем возможыне ошибки на расстоянии 1 или 2. Затем произведем токенизацию**"
   ]
  },
  {
   "cell_type": "code",
   "execution_count": 46,
   "id": "94ac577d",
   "metadata": {},
   "outputs": [],
   "source": [
    "words = []\n",
    "for item in list_of_words:\n",
    "  words.append([item, distance1(item).union(distance2(item))])# ??? как оптимизировать - неясно"
   ]
  },
  {
   "cell_type": "code",
   "execution_count": 9,
   "id": "30543a87",
   "metadata": {},
   "outputs": [
    {
     "data": {
      "text/plain": [
       "'пп рр ии вв ее тт'"
      ]
     },
     "execution_count": 9,
     "metadata": {},
     "output_type": "execute_result"
    }
   ],
   "source": [
    "def _tokenize(word):\n",
    "  return \" \".join([a + a for a in word])\n",
    "_tokenize('привет')"
   ]
  },
  {
   "cell_type": "code",
   "execution_count": 10,
   "id": "30417508",
   "metadata": {},
   "outputs": [],
   "source": [
    "tokenized = []\n",
    "to_vec = []\n",
    "for w in words:\n",
    "  tokens = []\n",
    "  for errors in w[1]:\n",
    "    st = _tokenize(errors)\n",
    "    tokens.append(st)\n",
    "    to_vec.append(st)\n",
    "  tokenized.append([w[0], tokens])"
   ]
  },
  {
   "cell_type": "markdown",
   "id": "688c77bd",
   "metadata": {},
   "source": [
    "**Вектризация текста посредством *TfidfVectorizer (TF-IDF)***"
   ]
  },
  {
   "cell_type": "code",
   "execution_count": 89,
   "id": "1d5ab93f",
   "metadata": {},
   "outputs": [
    {
     "name": "stdout",
     "output_type": "stream",
     "text": [
      "Найденные токены:\n",
      "['аа' 'бб' 'вв' 'гг' 'дд' 'ее' 'жж' 'зз' 'ии' 'йй' 'кк' 'лл' 'мм' 'нн'\n",
      " 'оо' 'пп' 'рр' 'сс' 'тт' 'уу' 'фф' 'хх' 'цц' 'чч' 'шш' 'щщ' 'ъъ' 'ыы'\n",
      " 'ьь' 'ээ' 'юю' 'яя' 'ёё']\n"
     ]
    }
   ],
   "source": [
    "# print(to_vec[400:450])\n",
    "from sklearn.feature_extraction.text import TfidfVectorizer\n",
    "corpus = to_vec\n",
    "vectorizer = TfidfVectorizer()\n",
    "V = vectorizer.fit_transform(corpus)\n",
    "print(\"Найденные токены:\")\n",
    "print(vectorizer.get_feature_names_out())"
   ]
  },
  {
   "cell_type": "code",
   "execution_count": 49,
   "id": "27721f52",
   "metadata": {},
   "outputs": [],
   "source": [
    "# для наглядности создадим dataframe с данными\n",
    "df = pd.DataFrame(V.toarray())"
   ]
  },
  {
   "cell_type": "markdown",
   "id": "d3a2ba53",
   "metadata": {},
   "source": [
    "***bool* - векторизация:**"
   ]
  },
  {
   "cell_type": "code",
   "execution_count": 92,
   "id": "cd715f54",
   "metadata": {},
   "outputs": [
    {
     "name": "stdout",
     "output_type": "stream",
     "text": [
      "Найденные токены:\n",
      "['аа' 'бб' 'вв' 'гг' 'дд' 'ее' 'жж' 'зз' 'ии' 'йй' 'кк' 'лл' 'мм' 'нн'\n",
      " 'оо' 'пп' 'рр' 'сс' 'тт' 'уу' 'фф' 'хх' 'цц' 'чч' 'шш' 'щщ' 'ъъ' 'ыы'\n",
      " 'ьь' 'ээ' 'юю' 'яя' 'ёё']\n"
     ]
    }
   ],
   "source": [
    "from sklearn.feature_extraction.text import CountVectorizer\n",
    "vectorizer_bin = CountVectorizer(binary = True)\n",
    "V_bin = vectorizer_bin.fit_transform(to_vec)\n",
    "print(\"Найденные токены:\")\n",
    "print(vectorizer_bin.get_feature_names_out())\n",
    "#print(V_bin.toarray())"
   ]
  },
  {
   "cell_type": "markdown",
   "id": "c2075c9b",
   "metadata": {},
   "source": [
    "**Определяем метки для каждого ошибочного слова**"
   ]
  },
  {
   "cell_type": "code",
   "execution_count": 57,
   "id": "4aa667d9",
   "metadata": {},
   "outputs": [],
   "source": [
    "labels = []\n",
    "_words = []\n",
    "for i in range(0, len(tokenized)):\n",
    "  for j in range(0, len(tokenized[i][1])):\n",
    "    labels.append(i)\n",
    "    _words.append(tokenized[i][0])\n",
    "df[\"label\"] = labels"
   ]
  },
  {
   "cell_type": "code",
   "execution_count": 58,
   "id": "28b1ee9e",
   "metadata": {},
   "outputs": [
    {
     "data": {
      "text/html": [
       "<div>\n",
       "<style scoped>\n",
       "    .dataframe tbody tr th:only-of-type {\n",
       "        vertical-align: middle;\n",
       "    }\n",
       "\n",
       "    .dataframe tbody tr th {\n",
       "        vertical-align: top;\n",
       "    }\n",
       "\n",
       "    .dataframe thead th {\n",
       "        text-align: right;\n",
       "    }\n",
       "</style>\n",
       "<table border=\"1\" class=\"dataframe\">\n",
       "  <thead>\n",
       "    <tr style=\"text-align: right;\">\n",
       "      <th></th>\n",
       "      <th>0</th>\n",
       "      <th>1</th>\n",
       "      <th>2</th>\n",
       "      <th>3</th>\n",
       "      <th>4</th>\n",
       "      <th>5</th>\n",
       "      <th>6</th>\n",
       "      <th>7</th>\n",
       "      <th>8</th>\n",
       "      <th>9</th>\n",
       "      <th>...</th>\n",
       "      <th>24</th>\n",
       "      <th>25</th>\n",
       "      <th>26</th>\n",
       "      <th>27</th>\n",
       "      <th>28</th>\n",
       "      <th>29</th>\n",
       "      <th>30</th>\n",
       "      <th>31</th>\n",
       "      <th>32</th>\n",
       "      <th>label</th>\n",
       "    </tr>\n",
       "  </thead>\n",
       "  <tbody>\n",
       "    <tr>\n",
       "      <th>0</th>\n",
       "      <td>0.000000</td>\n",
       "      <td>0.0</td>\n",
       "      <td>0.000000</td>\n",
       "      <td>0.623857</td>\n",
       "      <td>0.0</td>\n",
       "      <td>0.0</td>\n",
       "      <td>0.0</td>\n",
       "      <td>0.0</td>\n",
       "      <td>0.000000</td>\n",
       "      <td>0.000000</td>\n",
       "      <td>...</td>\n",
       "      <td>0.000000</td>\n",
       "      <td>0.0</td>\n",
       "      <td>0.0</td>\n",
       "      <td>0.000000</td>\n",
       "      <td>0.000000</td>\n",
       "      <td>0.0</td>\n",
       "      <td>0.0</td>\n",
       "      <td>0.0</td>\n",
       "      <td>0.0</td>\n",
       "      <td>0</td>\n",
       "    </tr>\n",
       "    <tr>\n",
       "      <th>1</th>\n",
       "      <td>0.000000</td>\n",
       "      <td>0.0</td>\n",
       "      <td>0.000000</td>\n",
       "      <td>0.000000</td>\n",
       "      <td>0.0</td>\n",
       "      <td>0.0</td>\n",
       "      <td>0.0</td>\n",
       "      <td>0.0</td>\n",
       "      <td>0.000000</td>\n",
       "      <td>0.000000</td>\n",
       "      <td>...</td>\n",
       "      <td>0.000000</td>\n",
       "      <td>0.0</td>\n",
       "      <td>0.0</td>\n",
       "      <td>0.000000</td>\n",
       "      <td>0.474597</td>\n",
       "      <td>0.0</td>\n",
       "      <td>0.0</td>\n",
       "      <td>0.0</td>\n",
       "      <td>0.0</td>\n",
       "      <td>0</td>\n",
       "    </tr>\n",
       "    <tr>\n",
       "      <th>2</th>\n",
       "      <td>0.000000</td>\n",
       "      <td>0.0</td>\n",
       "      <td>0.000000</td>\n",
       "      <td>0.000000</td>\n",
       "      <td>0.0</td>\n",
       "      <td>0.0</td>\n",
       "      <td>0.0</td>\n",
       "      <td>0.0</td>\n",
       "      <td>0.000000</td>\n",
       "      <td>0.000000</td>\n",
       "      <td>...</td>\n",
       "      <td>0.691239</td>\n",
       "      <td>0.0</td>\n",
       "      <td>0.0</td>\n",
       "      <td>0.000000</td>\n",
       "      <td>0.000000</td>\n",
       "      <td>0.0</td>\n",
       "      <td>0.0</td>\n",
       "      <td>0.0</td>\n",
       "      <td>0.0</td>\n",
       "      <td>0</td>\n",
       "    </tr>\n",
       "    <tr>\n",
       "      <th>3</th>\n",
       "      <td>0.000000</td>\n",
       "      <td>0.0</td>\n",
       "      <td>0.000000</td>\n",
       "      <td>0.000000</td>\n",
       "      <td>0.0</td>\n",
       "      <td>0.0</td>\n",
       "      <td>0.0</td>\n",
       "      <td>0.0</td>\n",
       "      <td>0.000000</td>\n",
       "      <td>0.000000</td>\n",
       "      <td>...</td>\n",
       "      <td>0.000000</td>\n",
       "      <td>0.0</td>\n",
       "      <td>0.0</td>\n",
       "      <td>0.000000</td>\n",
       "      <td>0.000000</td>\n",
       "      <td>0.0</td>\n",
       "      <td>0.0</td>\n",
       "      <td>0.0</td>\n",
       "      <td>0.0</td>\n",
       "      <td>0</td>\n",
       "    </tr>\n",
       "    <tr>\n",
       "      <th>4</th>\n",
       "      <td>0.436127</td>\n",
       "      <td>0.0</td>\n",
       "      <td>0.000000</td>\n",
       "      <td>0.000000</td>\n",
       "      <td>0.0</td>\n",
       "      <td>0.0</td>\n",
       "      <td>0.0</td>\n",
       "      <td>0.0</td>\n",
       "      <td>0.000000</td>\n",
       "      <td>0.000000</td>\n",
       "      <td>...</td>\n",
       "      <td>0.000000</td>\n",
       "      <td>0.0</td>\n",
       "      <td>0.0</td>\n",
       "      <td>0.000000</td>\n",
       "      <td>0.000000</td>\n",
       "      <td>0.0</td>\n",
       "      <td>0.0</td>\n",
       "      <td>0.0</td>\n",
       "      <td>0.0</td>\n",
       "      <td>0</td>\n",
       "    </tr>\n",
       "    <tr>\n",
       "      <th>...</th>\n",
       "      <td>...</td>\n",
       "      <td>...</td>\n",
       "      <td>...</td>\n",
       "      <td>...</td>\n",
       "      <td>...</td>\n",
       "      <td>...</td>\n",
       "      <td>...</td>\n",
       "      <td>...</td>\n",
       "      <td>...</td>\n",
       "      <td>...</td>\n",
       "      <td>...</td>\n",
       "      <td>...</td>\n",
       "      <td>...</td>\n",
       "      <td>...</td>\n",
       "      <td>...</td>\n",
       "      <td>...</td>\n",
       "      <td>...</td>\n",
       "      <td>...</td>\n",
       "      <td>...</td>\n",
       "      <td>...</td>\n",
       "      <td>...</td>\n",
       "    </tr>\n",
       "    <tr>\n",
       "      <th>884053</th>\n",
       "      <td>0.244087</td>\n",
       "      <td>0.0</td>\n",
       "      <td>0.299210</td>\n",
       "      <td>0.000000</td>\n",
       "      <td>0.0</td>\n",
       "      <td>0.0</td>\n",
       "      <td>0.0</td>\n",
       "      <td>0.0</td>\n",
       "      <td>0.273316</td>\n",
       "      <td>0.000000</td>\n",
       "      <td>...</td>\n",
       "      <td>0.000000</td>\n",
       "      <td>0.0</td>\n",
       "      <td>0.0</td>\n",
       "      <td>0.767646</td>\n",
       "      <td>0.000000</td>\n",
       "      <td>0.0</td>\n",
       "      <td>0.0</td>\n",
       "      <td>0.0</td>\n",
       "      <td>0.0</td>\n",
       "      <td>499</td>\n",
       "    </tr>\n",
       "    <tr>\n",
       "      <th>884054</th>\n",
       "      <td>0.243597</td>\n",
       "      <td>0.0</td>\n",
       "      <td>0.298610</td>\n",
       "      <td>0.000000</td>\n",
       "      <td>0.0</td>\n",
       "      <td>0.0</td>\n",
       "      <td>0.0</td>\n",
       "      <td>0.0</td>\n",
       "      <td>0.272768</td>\n",
       "      <td>0.341725</td>\n",
       "      <td>...</td>\n",
       "      <td>0.000000</td>\n",
       "      <td>0.0</td>\n",
       "      <td>0.0</td>\n",
       "      <td>0.383053</td>\n",
       "      <td>0.000000</td>\n",
       "      <td>0.0</td>\n",
       "      <td>0.0</td>\n",
       "      <td>0.0</td>\n",
       "      <td>0.0</td>\n",
       "      <td>499</td>\n",
       "    </tr>\n",
       "    <tr>\n",
       "      <th>884055</th>\n",
       "      <td>0.294356</td>\n",
       "      <td>0.0</td>\n",
       "      <td>0.360831</td>\n",
       "      <td>0.000000</td>\n",
       "      <td>0.0</td>\n",
       "      <td>0.0</td>\n",
       "      <td>0.0</td>\n",
       "      <td>0.0</td>\n",
       "      <td>0.000000</td>\n",
       "      <td>0.000000</td>\n",
       "      <td>...</td>\n",
       "      <td>0.000000</td>\n",
       "      <td>0.0</td>\n",
       "      <td>0.0</td>\n",
       "      <td>0.462871</td>\n",
       "      <td>0.000000</td>\n",
       "      <td>0.0</td>\n",
       "      <td>0.0</td>\n",
       "      <td>0.0</td>\n",
       "      <td>0.0</td>\n",
       "      <td>499</td>\n",
       "    </tr>\n",
       "    <tr>\n",
       "      <th>884056</th>\n",
       "      <td>0.224460</td>\n",
       "      <td>0.0</td>\n",
       "      <td>0.000000</td>\n",
       "      <td>0.000000</td>\n",
       "      <td>0.0</td>\n",
       "      <td>0.0</td>\n",
       "      <td>0.0</td>\n",
       "      <td>0.0</td>\n",
       "      <td>0.251339</td>\n",
       "      <td>0.314879</td>\n",
       "      <td>...</td>\n",
       "      <td>0.000000</td>\n",
       "      <td>0.0</td>\n",
       "      <td>0.0</td>\n",
       "      <td>0.000000</td>\n",
       "      <td>0.000000</td>\n",
       "      <td>0.0</td>\n",
       "      <td>0.0</td>\n",
       "      <td>0.0</td>\n",
       "      <td>0.0</td>\n",
       "      <td>499</td>\n",
       "    </tr>\n",
       "    <tr>\n",
       "      <th>884057</th>\n",
       "      <td>0.294746</td>\n",
       "      <td>0.0</td>\n",
       "      <td>0.361309</td>\n",
       "      <td>0.000000</td>\n",
       "      <td>0.0</td>\n",
       "      <td>0.0</td>\n",
       "      <td>0.0</td>\n",
       "      <td>0.0</td>\n",
       "      <td>0.000000</td>\n",
       "      <td>0.413477</td>\n",
       "      <td>...</td>\n",
       "      <td>0.000000</td>\n",
       "      <td>0.0</td>\n",
       "      <td>0.0</td>\n",
       "      <td>0.463484</td>\n",
       "      <td>0.000000</td>\n",
       "      <td>0.0</td>\n",
       "      <td>0.0</td>\n",
       "      <td>0.0</td>\n",
       "      <td>0.0</td>\n",
       "      <td>499</td>\n",
       "    </tr>\n",
       "  </tbody>\n",
       "</table>\n",
       "<p>884058 rows × 34 columns</p>\n",
       "</div>"
      ],
      "text/plain": [
       "               0    1         2         3    4    5    6    7         8  \\\n",
       "0       0.000000  0.0  0.000000  0.623857  0.0  0.0  0.0  0.0  0.000000   \n",
       "1       0.000000  0.0  0.000000  0.000000  0.0  0.0  0.0  0.0  0.000000   \n",
       "2       0.000000  0.0  0.000000  0.000000  0.0  0.0  0.0  0.0  0.000000   \n",
       "3       0.000000  0.0  0.000000  0.000000  0.0  0.0  0.0  0.0  0.000000   \n",
       "4       0.436127  0.0  0.000000  0.000000  0.0  0.0  0.0  0.0  0.000000   \n",
       "...          ...  ...       ...       ...  ...  ...  ...  ...       ...   \n",
       "884053  0.244087  0.0  0.299210  0.000000  0.0  0.0  0.0  0.0  0.273316   \n",
       "884054  0.243597  0.0  0.298610  0.000000  0.0  0.0  0.0  0.0  0.272768   \n",
       "884055  0.294356  0.0  0.360831  0.000000  0.0  0.0  0.0  0.0  0.000000   \n",
       "884056  0.224460  0.0  0.000000  0.000000  0.0  0.0  0.0  0.0  0.251339   \n",
       "884057  0.294746  0.0  0.361309  0.000000  0.0  0.0  0.0  0.0  0.000000   \n",
       "\n",
       "               9  ...        24   25   26        27        28   29   30   31  \\\n",
       "0       0.000000  ...  0.000000  0.0  0.0  0.000000  0.000000  0.0  0.0  0.0   \n",
       "1       0.000000  ...  0.000000  0.0  0.0  0.000000  0.474597  0.0  0.0  0.0   \n",
       "2       0.000000  ...  0.691239  0.0  0.0  0.000000  0.000000  0.0  0.0  0.0   \n",
       "3       0.000000  ...  0.000000  0.0  0.0  0.000000  0.000000  0.0  0.0  0.0   \n",
       "4       0.000000  ...  0.000000  0.0  0.0  0.000000  0.000000  0.0  0.0  0.0   \n",
       "...          ...  ...       ...  ...  ...       ...       ...  ...  ...  ...   \n",
       "884053  0.000000  ...  0.000000  0.0  0.0  0.767646  0.000000  0.0  0.0  0.0   \n",
       "884054  0.341725  ...  0.000000  0.0  0.0  0.383053  0.000000  0.0  0.0  0.0   \n",
       "884055  0.000000  ...  0.000000  0.0  0.0  0.462871  0.000000  0.0  0.0  0.0   \n",
       "884056  0.314879  ...  0.000000  0.0  0.0  0.000000  0.000000  0.0  0.0  0.0   \n",
       "884057  0.413477  ...  0.000000  0.0  0.0  0.463484  0.000000  0.0  0.0  0.0   \n",
       "\n",
       "         32  label  \n",
       "0       0.0      0  \n",
       "1       0.0      0  \n",
       "2       0.0      0  \n",
       "3       0.0      0  \n",
       "4       0.0      0  \n",
       "...     ...    ...  \n",
       "884053  0.0    499  \n",
       "884054  0.0    499  \n",
       "884055  0.0    499  \n",
       "884056  0.0    499  \n",
       "884057  0.0    499  \n",
       "\n",
       "[884058 rows x 34 columns]"
      ]
     },
     "execution_count": 58,
     "metadata": {},
     "output_type": "execute_result"
    }
   ],
   "source": [
    "df"
   ]
  },
  {
   "cell_type": "code",
   "execution_count": 59,
   "id": "6844b43e",
   "metadata": {},
   "outputs": [],
   "source": [
    "from sklearn.model_selection import train_test_split\n",
    "from sklearn.metrics  import f1_score, accuracy_score\n",
    "\n",
    "\n",
    "from sklearn.naive_bayes import GaussianNB\n",
    "from sklearn.naive_bayes import MultinomialNB\n",
    "from sklearn.tree import DecisionTreeClassifier\n",
    "from sklearn.naive_bayes import GaussianNB\n",
    "from sklearn.naive_bayes import MultinomialNB\n",
    "from sklearn.neighbors import KNeighborsClassifier\n",
    "from sklearn.linear_model import LogisticRegression"
   ]
  },
  {
   "cell_type": "markdown",
   "id": "d00b4d1c",
   "metadata": {},
   "source": [
    "**Попробуем несколько сжать данные**"
   ]
  },
  {
   "cell_type": "code",
   "execution_count": 60,
   "id": "24d8cb4d",
   "metadata": {},
   "outputs": [
    {
     "name": "stdout",
     "output_type": "stream",
     "text": [
      "Memory usage is 182.116 MB\n"
     ]
    }
   ],
   "source": [
    "def convert_to_sparse_pandas(df, exclude_columns = []):\n",
    "    df = df.copy()\n",
    "    exclude_columns = set(exclude_columns)\n",
    "\n",
    "    for (columnName, columnData) in df.iteritems():\n",
    "        if columnName in exclude_columns:\n",
    "            continue\n",
    "        df[columnName] = pd.arrays.SparseArray(columnData.values, dtype = np.float16)\n",
    "\n",
    "    return df\n",
    "\n",
    "df_sparse = convert_to_sparse_pandas(df, exclude_columns = [\"label\"])\n",
    "# display(df_sparse.dtypes)\n",
    "print_memory_usage_of_data_frame(df_sparse)"
   ]
  },
  {
   "cell_type": "code",
   "execution_count": 93,
   "id": "344750e0",
   "metadata": {},
   "outputs": [
    {
     "name": "stdout",
     "output_type": "stream",
     "text": [
      "X:\n",
      "Memory usage is 233.391 MB\n",
      "X_sparse:\n",
      "Memory usage is 175.044 MB\n",
      "X_csr:\n",
      "Memory usage is 68.581552 MB\n",
      "X_binary:\n",
      "Memory usage is 68.581552 MB\n"
     ]
    }
   ],
   "source": [
    "y = df['label']\n",
    "X = df[df.columns.difference(['label'])]\n",
    "\n",
    "y_sparse = df_sparse['label']\n",
    "X_sparse = df_sparse[df_sparse.columns.difference(['label'])]\n",
    "\n",
    "y_csr = df['label']\n",
    "X_csr = V\n",
    "\n",
    "y_binary = df['label']\n",
    "X_binary = V_bin\n",
    "\n",
    "print('X:')\n",
    "print_memory_usage_of_data_frame(X)\n",
    "print('X_sparse:')\n",
    "print_memory_usage_of_data_frame(X_sparse)\n",
    "print('X_csr:')\n",
    "get_csr_memory_usage(X_csr)\n",
    "print('X_binary:')\n",
    "get_csr_memory_usage(X_binary)"
   ]
  },
  {
   "cell_type": "markdown",
   "id": "d1b785f4",
   "metadata": {},
   "source": [
    "**Как видим, самый оптимальный вариант - разреженная матрица**"
   ]
  },
  {
   "cell_type": "code",
   "execution_count": 64,
   "id": "d0052483",
   "metadata": {},
   "outputs": [],
   "source": [
    "'''from scipy.sparse import lil_matrix\n",
    "\n",
    "def data_frame_to_scipy_sparse_matrix(df):\n",
    "    arr = lil_matrix(df.shape, dtype = np.float32)\n",
    "    for i, col in enumerate(df.columns):\n",
    "        ix = df[col] != 0\n",
    "        arr[np.where(ix), i] = 1\n",
    "    return arr.tocsr()\n",
    "\n",
    "def get_csr_memory_usage(matrix):\n",
    "    mem = (X_csr.data.nbytes + X_csr.indptr.nbytes + X_csr.indices.nbytes) * BYTES_TO_MB_DIV\n",
    "    print(\"Memory usage is \" + str(mem) + \" MB\")'''"
   ]
  },
  {
   "cell_type": "markdown",
   "id": "7044df95",
   "metadata": {},
   "source": [
    "## Перейдем к обучению модели"
   ]
  },
  {
   "cell_type": "code",
   "execution_count": 131,
   "id": "d05b2a63",
   "metadata": {},
   "outputs": [],
   "source": [
    "models = []\n",
    "list_of_names = []\n",
    "X_tests_arr = []\n",
    "Y_tests_arr = []"
   ]
  },
  {
   "cell_type": "code",
   "execution_count": 132,
   "id": "e1e2ab54",
   "metadata": {},
   "outputs": [
    {
     "name": "stdout",
     "output_type": "stream",
     "text": [
      "Pandas dataframe\n",
      "Train-test split: 0.22 secs\n",
      "Training: 16.03 secs\n",
      "\n",
      "\n",
      "Scipy sparse matrix\n",
      "Train-test split: 0.22 secs\n",
      "Training: 17.48 secs\n",
      "\n",
      "\n",
      "Scipy sparse matrix binary\n",
      "Train-test split: 0.22 secs\n",
      "Training: 1.9 secs\n",
      "\n",
      "\n"
     ]
    }
   ],
   "source": [
    "model = DecisionTreeClassifier()\n",
    "# 'Sparse pandas dataframe': [X_sparse, y_sparse],\n",
    "vector_dict = {'Pandas dataframe': [X, y],\n",
    "    'Scipy sparse matrix': [X_csr, y_csr],\n",
    "    'Scipy sparse matrix binary': [X_binary, y_binary]\n",
    "    }\n",
    "\n",
    "for key, item in vector_dict.items():\n",
    "    print(key)\n",
    "    list_of_names.append(key)\n",
    "    start = time.time()\n",
    "    if (key != 'Pandas dataframe'):\n",
    "        XX = item[0].toarray()\n",
    "    else:\n",
    "        XX = X\n",
    "        \n",
    "    X_train, X_test, y_train, y_test = train_test_split(XX, y, test_size = 0.8, random_state = 42)\n",
    "    end = time.time()\n",
    "    duration = round(end - start, 2)\n",
    "    print(\"Train-test split: \" + str(duration) + \" secs\")\n",
    "\n",
    "    start = time.time()\n",
    "    model.fit(X_train, y_train)\n",
    "\n",
    "    end = time.time()\n",
    "    duration = round(end - start, 2)\n",
    "    \n",
    "    models.append(model)\n",
    "    X_tests_arr.append(X_test)\n",
    "    Y_tests_arr.append(y_test)\n",
    "    print(\"Training: \" + str(duration) + \" secs\")\n",
    "    print(\"\\n\")"
   ]
  },
  {
   "cell_type": "markdown",
   "id": "e9483b45",
   "metadata": {},
   "source": [
    "**Теперь протестируем обученную модель**"
   ]
  },
  {
   "cell_type": "code",
   "execution_count": 133,
   "id": "00e4141c",
   "metadata": {},
   "outputs": [],
   "source": [
    "def test(mod, Xtest, Ytest):\n",
    "    start = time.time()\n",
    "    pred = mod.predict(Xtest)\n",
    "    end = time.time()\n",
    "    duration = round(end - start, 2)\n",
    "    print(\"Testing: \" + str(duration) + \" secs\")\n",
    "    print('accuracy:', accuracy_score(Ytest, pred))\n",
    "    print('      f1:', f1_score(Ytest, pred, average = 'macro'))\n",
    "    print('    mean:', mean_absolute_error(Ytest, pred))\n",
    "    print(\"\\n\")"
   ]
  },
  {
   "cell_type": "code",
   "execution_count": 134,
   "id": "b415ec26",
   "metadata": {},
   "outputs": [
    {
     "name": "stdout",
     "output_type": "stream",
     "text": [
      "Pandas dataframe\n",
      "Testing: 1.63 secs\n",
      "accuracy: 0.009674130819925712\n",
      "      f1: 0.013150407862761483\n",
      "    mean: 227.39396985777248\n",
      "\n",
      "\n",
      "Scipy sparse matrix\n",
      "Testing: 1.43 secs\n",
      "accuracy: 0.009674130819925712\n",
      "      f1: 0.013150407862761483\n",
      "    mean: 227.39396985777248\n",
      "\n",
      "\n",
      "Scipy sparse matrix binary\n",
      "Testing: 1.68 secs\n",
      "accuracy: 0.6571155480334311\n",
      "      f1: 0.5426343007573801\n",
      "    mean: 53.44590503741974\n",
      "\n",
      "\n"
     ]
    }
   ],
   "source": [
    "for i in range(len(models)):\n",
    "    print(list_of_names[i])\n",
    "    test(models[i], X_tests_arr[i], Y_tests_arr[i])"
   ]
  },
  {
   "cell_type": "markdown",
   "id": "f6c8e477",
   "metadata": {},
   "source": [
    "## Проведем \"живой\" тест на бинароной модели"
   ]
  },
  {
   "cell_type": "code",
   "execution_count": null,
   "id": "31c78010",
   "metadata": {},
   "outputs": [],
   "source": [
    "pin = input()\n",
    "create_vec = "
   ]
  },
  {
   "cell_type": "markdown",
   "id": "daae4c3f",
   "metadata": {},
   "source": [
    "## bin"
   ]
  },
  {
   "cell_type": "code",
   "execution_count": null,
   "id": "bad199f0",
   "metadata": {},
   "outputs": [],
   "source": [
    "start = time.time()\n",
    "pred = model.predict(X_test)\n",
    "end = time.time()\n",
    "duration = round(end - start, 2)\n",
    "print(\"Testing: \" + str(duration) + \" secs\")\n",
    "print(\"\\n\")"
   ]
  },
  {
   "cell_type": "code",
   "execution_count": 105,
   "id": "bffcb3cd",
   "metadata": {},
   "outputs": [
    {
     "name": "stdout",
     "output_type": "stream",
     "text": [
      "0.6571622078283824\n",
      "0.5426987035755111\n",
      "53.354150671547565\n"
     ]
    }
   ],
   "source": [
    "from sklearn.metrics import mean_absolute_error\n",
    "from sklearn.metrics import r2_score\n",
    "\n",
    "print(accuracy_score(y_test, pred))\n",
    "print(f1_score(y_test, pred, average = 'macro'))\n",
    "\n",
    "print(mean_absolute_error(y_test, pred))"
   ]
  }
 ],
 "metadata": {
  "kernelspec": {
   "display_name": "Python 3 (ipykernel)",
   "language": "python",
   "name": "python3"
  },
  "language_info": {
   "codemirror_mode": {
    "name": "ipython",
    "version": 3
   },
   "file_extension": ".py",
   "mimetype": "text/x-python",
   "name": "python",
   "nbconvert_exporter": "python",
   "pygments_lexer": "ipython3",
   "version": "3.10.4"
  }
 },
 "nbformat": 4,
 "nbformat_minor": 5
}
