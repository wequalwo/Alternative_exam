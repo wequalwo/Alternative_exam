{
 "cells": [
  {
   "cell_type": "code",
   "execution_count": null,
   "id": "5b1dd9f6",
   "metadata": {},
   "outputs": [],
   "source": [
    "!pip install pandas\n",
    "!pip install nltk\n",
    "!pip install sklearn"
   ]
  },
  {
   "cell_type": "code",
   "execution_count": 1,
   "id": "b43db559",
   "metadata": {},
   "outputs": [
    {
     "name": "stderr",
     "output_type": "stream",
     "text": [
      "[nltk_data] Downloading package stopwords to\n",
      "[nltk_data]     C:\\Users\\wequalwo\\AppData\\Roaming\\nltk_data...\n",
      "[nltk_data]   Package stopwords is already up-to-date!\n",
      "[nltk_data] Downloading package punkt to\n",
      "[nltk_data]     C:\\Users\\wequalwo\\AppData\\Roaming\\nltk_data...\n",
      "[nltk_data]   Package punkt is already up-to-date!\n"
     ]
    },
    {
     "data": {
      "text/plain": [
       "True"
      ]
     },
     "execution_count": 1,
     "metadata": {},
     "output_type": "execute_result"
    }
   ],
   "source": [
    "import pandas as pd\n",
    "import numpy as np\n",
    "import nltk\n",
    "\n",
    "import re #регулярные выражения\n",
    "import math\n",
    "from collections import Counter\n",
    "import requests\n",
    "import time\n",
    "\n",
    "alphabet = 'абвгдеёжзийклмнопрстуфхцчшщъыьэюя'\n",
    "\n",
    "nltk.download('stopwords') # to use stopwords\n",
    "nltk.download('punkt') # to use word_tokenize"
   ]
  },
  {
   "cell_type": "code",
   "execution_count": 2,
   "id": "73fee5d2",
   "metadata": {},
   "outputs": [],
   "source": [
    "# служебные функция для расчета памяти, заниаемой dataframe и csr\n",
    "BYTES_TO_MB_DIV = 0.000001\n",
    "def print_memory_usage_of_data_frame(df):\n",
    "    mem = round(df.memory_usage().sum() * BYTES_TO_MB_DIV, 3) \n",
    "    print(\"Memory usage is \" + str(mem) + \" MB\")\n",
    "    \n",
    "def get_csr_memory_usage(matrix):\n",
    "    mem = (matrix.data.nbytes + matrix.indptr.nbytes + matrix.indices.nbytes) * BYTES_TO_MB_DIV\n",
    "    print(\"Memory usage is \" + str(mem) + \" MB\")"
   ]
  },
  {
   "cell_type": "code",
   "execution_count": 3,
   "id": "15c9ebc9",
   "metadata": {},
   "outputs": [
    {
     "name": "stdout",
     "output_type": "stream",
     "text": [
      "['Это', 'простое', 'предложение', 'показывает', 'фильтрацию', 'на', 'стоп-слова']\n",
      "['Это', 'простое', 'предложение', 'показывает', 'фильтрацию', 'стоп-слова']\n",
      "Стоп-слова русского языка:\n",
      "['и', 'в', 'во', 'не', 'что', 'он', 'на', 'я', 'с', 'со', 'как', 'а', 'то', 'все', 'она', 'так', 'его', 'но', 'да', 'ты', 'к', 'у', 'же', 'вы', 'за', 'бы', 'по', 'только', 'ее', 'мне', 'было', 'вот', 'от', 'меня', 'еще', 'нет', 'о', 'из', 'ему', 'теперь', 'когда', 'даже', 'ну', 'вдруг', 'ли', 'если', 'уже', 'или', 'ни', 'быть', 'был', 'него', 'до', 'вас', 'нибудь', 'опять', 'уж', 'вам', 'ведь', 'там', 'потом', 'себя', 'ничего', 'ей', 'может', 'они', 'тут', 'где', 'есть', 'надо', 'ней', 'для', 'мы', 'тебя', 'их', 'чем', 'была', 'сам', 'чтоб', 'без', 'будто', 'чего', 'раз', 'тоже', 'себе', 'под', 'будет', 'ж', 'тогда', 'кто', 'этот', 'того', 'потому', 'этого', 'какой', 'совсем', 'ним', 'здесь', 'этом', 'один', 'почти', 'мой', 'тем', 'чтобы', 'нее', 'сейчас', 'были', 'куда', 'зачем', 'всех', 'никогда', 'можно', 'при', 'наконец', 'два', 'об', 'другой', 'хоть', 'после', 'над', 'больше', 'тот', 'через', 'эти', 'нас', 'про', 'всего', 'них', 'какая', 'много', 'разве', 'три', 'эту', 'моя', 'впрочем', 'хорошо', 'свою', 'этой', 'перед', 'иногда', 'лучше', 'чуть', 'том', 'нельзя', 'такой', 'им', 'более', 'всегда', 'конечно', 'всю', 'между']\n"
     ]
    }
   ],
   "source": [
    "# десмонтсранция идеи токенизации и стоп-слов\n",
    "from nltk.tokenize import sent_tokenize, word_tokenize\n",
    "from nltk.corpus import stopwords as stopwords\n",
    "from nltk.tokenize import word_tokenize\n",
    "\n",
    "example_sent = \"\"\"Это простое предложение показывает фильтрацию на стоп-слова\"\"\"\n",
    " \n",
    "stop_words = set(stopwords.words('russian'))\n",
    "word_tokens = word_tokenize(example_sent)\n",
    "filtered_sentence = [w for w in word_tokens if not w.lower() in stop_words]\n",
    "filtered_sentence = []\n",
    " \n",
    "for w in word_tokens:\n",
    "    if w not in stop_words:\n",
    "        filtered_sentence.append(w)\n",
    "\n",
    "print(word_tokens)\n",
    "print(filtered_sentence)\n",
    "\n",
    "from nltk.corpus import stopwords\n",
    "print(\"Стоп-слова русского языка:\")\n",
    "print(stopwords.words('russian'))"
   ]
  },
  {
   "cell_type": "markdown",
   "id": "bbeb98bc",
   "metadata": {},
   "source": [
    "## Создадим функции, позволяющие генерировать следующие ошибки в словах:\n",
    "\n",
    "1.   **Пропуск буквы:** ${резонанс - рзонанс}$\n",
    "2.   **Дублирование буквы:** ${резонанс - реезонанс}$\n",
    "3.   **Перестановка букв:** ${резонанс - рзеонанс}$\n",
    "4.   **Опечатка:** ${резонанс - ркзонанс}$\n",
    "5.   **Некоторые орфографические ошибки:**  ${резонанс - ризонанс}$\n"
   ]
  },
  {
   "cell_type": "code",
   "execution_count": 4,
   "id": "92be3754",
   "metadata": {},
   "outputs": [],
   "source": [
    "# все ошибки на расстоянии 2 (расстояние Левинштейна)\n",
    "def distance2(word):\n",
    "    return {e2 for e1 in distance1(word) if e1 for e2 in distance1(e1)}\n",
    "\n",
    "# все ошибки на расстоянии 1 (расстояние Левинштейна)\n",
    "def distance1(word):\n",
    "    pairs      = splits(word)\n",
    "    transposes = [a+b[1]+b[0]+b[2:]  for (a,b) in pairs if len(b)>1]                           # перестановки\n",
    "    replaces   = [a+c+b[1:]          for (a,b) in pairs if b for c in replaces_set[b[0]] if b] # замены: \n",
    "                                                                                                        # опечатки, \n",
    "                                                                                                        # пропуски и дублирования букв, \n",
    "                                                                                                        # орфографические ошибки\n",
    "\n",
    "    last_replaces = [word[0:-1] + c for c in replaces_set[word[-1]]]                           # замены в конце слова\n",
    "    return set(transposes + replaces + last_replaces)\n",
    "\n",
    "def splits(word):\n",
    "    return [(word[:i], word[i:])\n",
    "            for i in range (len(word)+1)]\n",
    "\n",
    "# список возможных замен в слове\n",
    "replaces_set = pd.Series([          \n",
    "               ['с', 'в', 'у', 'к', 'е', 'п', 'м', 'о', 'аа', ''],\n",
    "               ['ь', 'о', 'л', 'д', 'ж', 'ю', 'п', 'бб', ''],\n",
    "               ['ч', 'ы', 'ц', 'у', 'к', 'а', 'с', 'вв', 'ф', ''],\n",
    "               ['р', 'н', 'ш', 'л', 'о', 'гг', 'к', ''],\n",
    "               ['б', 'л', 'ш', 'щ', 'з', 'ж', 'ю', 'дд', 'т', ''],\n",
    "               ['а', 'к', 'н', 'р', 'п', 'ее', 'и', 'ё', 'о', ''],\n",
    "               ['ёё', 'й', 'йо', 'е', ''],\n",
    "               ['ю', 'д', 'щ', 'з', 'х', 'э', 'жж', 'ш', ''],\n",
    "               ['д', 'щ', 'х', 'э', 'ж', 'зз', 'с', ''],\n",
    "               ['м', 'а', 'п', 'р', 'т', 'ии', 'е', 'ы', ''],\n",
    "               ['ц', 'ы', 'ф', 'йй',''],\n",
    "               ['а', 'в', 'у', 'е', 'п', 'п', 'а', 'кк', 'г', ''],\n",
    "               ['ь', 'о', 'г', 'ш', 'щ', 'д', 'б', 'лл', ''],\n",
    "               ['с', 'а', 'п', 'и', 'мм', 'н', ''],\n",
    "               ['р', 'п', 'е', 'г', 'о', 'нн', 'м', ''],\n",
    "               ['т', 'р', 'н', 'г', 'ш', 'л', 'ь', 'оо', 'а', 'е', 'ё', 'у', ''],\n",
    "               ['м', 'а', 'к', 'е', 'н', 'р', 'и', 'пп', 'б', ''],\n",
    "               ['и', 'п', 'е', 'н', 'г', 'о', 'т', 'рр', 'р', ''],\n",
    "               ['ч', 'в', 'а', 'м', 'сс', 'з', ''],\n",
    "               ['и', 'п', 'р', 'о', 'ь', 'тт', 'д', ''],\n",
    "               ['в', 'ы', 'ц', 'к', 'а', 'уу', 'ю', 'о', ''],\n",
    "               ['я', 'ч', 'ы', 'ц', 'й', 'фф', 'в', ''],\n",
    "               ['ж', 'з', 'ъ', 'э', 'хх', ''],\n",
    "               ['ы', 'ф', 'й', 'у', 'в', 'ы', 'цц', 'ч', ''],\n",
    "               ['я', 'ф', 'ы', 'в', 'с', 'чч', ''],\n",
    "               ['л', 'о', 'г', 'щ', 'д', 'шш', 'щ', 'шь', 'щь', 'ж', ''],\n",
    "               ['л', 'ш', 'з', 'ж', 'д', 'щщ', 'щь', 'шь', 'ж', ''],\n",
    "               ['э', 'х', 'ъъ', 'ь', ''],\n",
    "               ['ч', 'я', 'ф', 'й', 'ц', 'у', 'в', 'и', 'ыы', ''],\n",
    "               ['т', 'о', 'л', 'б', 'ьь', 'ъ', ''],\n",
    "               ['ж', 'з', 'х', 'ъ', ''],\n",
    "               ['б', 'л', 'д', 'ж', 'э', 'у', 'йу', ''],\n",
    "               ['ф', 'ы', 'ч', 'яя', 'а', 'йа', ''],\n",
    "               ], \n",
    "               index = ['а','б','в','г', 'д', 'е', 'ё', 'ж', 'з', 'и', 'й', 'к', 'л', 'м', 'н', 'о', 'п', 'р', 'с', 'т', 'у', 'ф', 'х', 'ц', 'ч', 'ш', 'щ', 'ъ', 'ы', 'ь', 'э', 'ю', 'я'])\n"
   ]
  },
  {
   "cell_type": "markdown",
   "id": "39843dcf",
   "metadata": {},
   "source": [
    "**Импортируем текст**"
   ]
  },
  {
   "cell_type": "code",
   "execution_count": 52,
   "id": "2a202440",
   "metadata": {},
   "outputs": [
    {
     "name": "stdout",
     "output_type": "stream",
     "text": [
      "['что', 'тот', 'быть', 'весь', 'это', 'как', 'она', 'они', 'так', 'сказать', 'этот', 'который', 'может', 'человек', 'один', 'еще', 'такой', 'только', 'себя', 'свое']\n",
      "200\n"
     ]
    }
   ],
   "source": [
    "import codecs\n",
    "with codecs.open('top10000.txt', 'r', encoding = 'utf-8') as file:\n",
    "    TEXT = file.read().replace('\\n', ' ') # для текста, в котором слова разделены '\\n'\n",
    "    # TEXT = file.read().replace(' ', ' ') # для текста, в котором слова разделены ' '\n",
    "def tokens(text):\n",
    "    return re.findall(r'[а-я]+', text.lower())\n",
    "list_of_words = tokens(TEXT)\n",
    "\n",
    "# удалим все слова, короче 3 символов (потому что слова из 2х символов неинформативны):\n",
    "tmp = [w for w in list_of_words if len(w) > 2]\n",
    "list_of_words = tmp\n",
    "\n",
    "# пока ограничимся 200 словами\n",
    "del list_of_words[200:]\n",
    "\n",
    "# выведем первые 20 слов\n",
    "print(list_of_words[:20])\n",
    "print(len(list_of_words))"
   ]
  },
  {
   "cell_type": "markdown",
   "id": "4bd35fe6",
   "metadata": {},
   "source": [
    "**Для каждого слова рассчитаем возможыне ошибки на расстоянии 1 или 2. Затем произведем токенизацию**"
   ]
  },
  {
   "cell_type": "code",
   "execution_count": 53,
   "id": "94ac577d",
   "metadata": {},
   "outputs": [],
   "source": [
    "# words = []\n",
    "corpus = [] # все сгенерированные слова\n",
    "labels = [] # метки для классификации в порядке ошибочных слов\n",
    "\n",
    "for item in list_of_words:\n",
    "    errors = distance1(item).union(distance2(item))# ??? как оптимизировать - неясно\n",
    "    corpus += list(errors)\n",
    "    # words.append([item, errors])\n",
    "    labels += [item]*len(errors)"
   ]
  },
  {
   "cell_type": "code",
   "execution_count": 54,
   "id": "6f47deca",
   "metadata": {},
   "outputs": [
    {
     "data": {
      "text/plain": [
       "['р', 'е', 'з', 'о', 'н', 'а', 'н', 'с']"
      ]
     },
     "execution_count": 54,
     "metadata": {},
     "output_type": "execute_result"
    }
   ],
   "source": [
    "# токенизация слова на буквы\n",
    "'''\n",
    "def _tokenize(word):\n",
    "    return [a + a for a in word]\n",
    "'''\n",
    "def _tokenize(word):\n",
    "    return re.findall(r'[а-ё]', word.lower())\n",
    "_tokenize('резонанс')"
   ]
  },
  {
   "cell_type": "markdown",
   "id": "5f8312db",
   "metadata": {},
   "source": [
    "**Векторизация текста посредством *TfidfVectorizer (TF-IDF)***"
   ]
  },
  {
   "cell_type": "code",
   "execution_count": 55,
   "id": "1d5ab93f",
   "metadata": {},
   "outputs": [
    {
     "name": "stdout",
     "output_type": "stream",
     "text": [
      "Найденные токены:\n",
      "['а' 'б' 'в' 'г' 'д' 'е' 'ж' 'з' 'и' 'й' 'к' 'л' 'м' 'н' 'о' 'п' 'р' 'с'\n",
      " 'т' 'у' 'ф' 'х' 'ц' 'ч' 'ш' 'щ' 'ъ' 'ы' 'ь' 'э' 'ю' 'я' 'ё']\n"
     ]
    }
   ],
   "source": [
    "from sklearn.feature_extraction.text import TfidfVectorizer\n",
    "vectorizer = TfidfVectorizer(tokenizer = lambda x: _tokenize(x))\n",
    "V = vectorizer.fit_transform(corpus)\n",
    "print(\"Найденные токены:\")\n",
    "print(vectorizer.get_feature_names_out())"
   ]
  },
  {
   "cell_type": "markdown",
   "id": "48245b83",
   "metadata": {},
   "source": [
    "***bool* - векторизация:**"
   ]
  },
  {
   "cell_type": "code",
   "execution_count": 56,
   "id": "800e1d26",
   "metadata": {},
   "outputs": [
    {
     "name": "stdout",
     "output_type": "stream",
     "text": [
      "Найденные токены:\n",
      "['а' 'б' 'в' 'г' 'д' 'е' 'ж' 'з' 'и' 'й' 'к' 'л' 'м' 'н' 'о' 'п' 'р' 'с'\n",
      " 'т' 'у' 'ф' 'х' 'ц' 'ч' 'ш' 'щ' 'ъ' 'ы' 'ь' 'э' 'ю' 'я' 'ё']\n"
     ]
    }
   ],
   "source": [
    "from sklearn.feature_extraction.text import CountVectorizer\n",
    "vectorizer_bin = CountVectorizer(binary = True, tokenizer = lambda x: _tokenize(x))\n",
    "V_bin = vectorizer_bin.fit_transform(corpus)\n",
    "print(\"Найденные токены:\")\n",
    "print(vectorizer_bin.get_feature_names_out())\n",
    "#print(V_bin.toarray())"
   ]
  },
  {
   "cell_type": "code",
   "execution_count": 57,
   "id": "27721f52",
   "metadata": {},
   "outputs": [],
   "source": [
    "# для наглядности создадим dataframe с данными на основе векторизации TF-IDF\n",
    "df = pd.DataFrame(V.toarray(), columns = vectorizer_bin.get_feature_names_out())"
   ]
  },
  {
   "cell_type": "code",
   "execution_count": 58,
   "id": "28b1ee9e",
   "metadata": {},
   "outputs": [
    {
     "data": {
      "text/html": [
       "<div>\n",
       "<style scoped>\n",
       "    .dataframe tbody tr th:only-of-type {\n",
       "        vertical-align: middle;\n",
       "    }\n",
       "\n",
       "    .dataframe tbody tr th {\n",
       "        vertical-align: top;\n",
       "    }\n",
       "\n",
       "    .dataframe thead th {\n",
       "        text-align: right;\n",
       "    }\n",
       "</style>\n",
       "<table border=\"1\" class=\"dataframe\">\n",
       "  <thead>\n",
       "    <tr style=\"text-align: right;\">\n",
       "      <th></th>\n",
       "      <th>а</th>\n",
       "      <th>б</th>\n",
       "      <th>в</th>\n",
       "      <th>г</th>\n",
       "      <th>д</th>\n",
       "      <th>е</th>\n",
       "      <th>ж</th>\n",
       "      <th>з</th>\n",
       "      <th>и</th>\n",
       "      <th>й</th>\n",
       "      <th>...</th>\n",
       "      <th>ш</th>\n",
       "      <th>щ</th>\n",
       "      <th>ъ</th>\n",
       "      <th>ы</th>\n",
       "      <th>ь</th>\n",
       "      <th>э</th>\n",
       "      <th>ю</th>\n",
       "      <th>я</th>\n",
       "      <th>ё</th>\n",
       "      <th>labels</th>\n",
       "    </tr>\n",
       "  </thead>\n",
       "  <tbody>\n",
       "    <tr>\n",
       "      <th>0</th>\n",
       "      <td>0.000000</td>\n",
       "      <td>0.0</td>\n",
       "      <td>0.0</td>\n",
       "      <td>0.000000</td>\n",
       "      <td>0.000000</td>\n",
       "      <td>0.0</td>\n",
       "      <td>0.000000</td>\n",
       "      <td>0.0</td>\n",
       "      <td>0.0</td>\n",
       "      <td>0.0</td>\n",
       "      <td>...</td>\n",
       "      <td>0.000000</td>\n",
       "      <td>0.0</td>\n",
       "      <td>0.0</td>\n",
       "      <td>0.00000</td>\n",
       "      <td>0.000000</td>\n",
       "      <td>0.0</td>\n",
       "      <td>0.0</td>\n",
       "      <td>0.0</td>\n",
       "      <td>0.000000</td>\n",
       "      <td>что</td>\n",
       "    </tr>\n",
       "    <tr>\n",
       "      <th>1</th>\n",
       "      <td>0.000000</td>\n",
       "      <td>0.0</td>\n",
       "      <td>0.0</td>\n",
       "      <td>0.000000</td>\n",
       "      <td>0.000000</td>\n",
       "      <td>0.0</td>\n",
       "      <td>0.000000</td>\n",
       "      <td>0.0</td>\n",
       "      <td>0.0</td>\n",
       "      <td>0.0</td>\n",
       "      <td>...</td>\n",
       "      <td>0.678188</td>\n",
       "      <td>0.0</td>\n",
       "      <td>0.0</td>\n",
       "      <td>0.00000</td>\n",
       "      <td>0.000000</td>\n",
       "      <td>0.0</td>\n",
       "      <td>0.0</td>\n",
       "      <td>0.0</td>\n",
       "      <td>0.000000</td>\n",
       "      <td>что</td>\n",
       "    </tr>\n",
       "    <tr>\n",
       "      <th>2</th>\n",
       "      <td>0.000000</td>\n",
       "      <td>0.0</td>\n",
       "      <td>0.0</td>\n",
       "      <td>0.000000</td>\n",
       "      <td>0.000000</td>\n",
       "      <td>0.0</td>\n",
       "      <td>0.000000</td>\n",
       "      <td>0.0</td>\n",
       "      <td>0.0</td>\n",
       "      <td>0.0</td>\n",
       "      <td>...</td>\n",
       "      <td>0.000000</td>\n",
       "      <td>0.0</td>\n",
       "      <td>0.0</td>\n",
       "      <td>0.00000</td>\n",
       "      <td>0.517981</td>\n",
       "      <td>0.0</td>\n",
       "      <td>0.0</td>\n",
       "      <td>0.0</td>\n",
       "      <td>0.000000</td>\n",
       "      <td>что</td>\n",
       "    </tr>\n",
       "    <tr>\n",
       "      <th>3</th>\n",
       "      <td>0.000000</td>\n",
       "      <td>0.0</td>\n",
       "      <td>0.0</td>\n",
       "      <td>0.000000</td>\n",
       "      <td>0.000000</td>\n",
       "      <td>0.0</td>\n",
       "      <td>0.000000</td>\n",
       "      <td>0.0</td>\n",
       "      <td>0.0</td>\n",
       "      <td>0.0</td>\n",
       "      <td>...</td>\n",
       "      <td>0.000000</td>\n",
       "      <td>0.0</td>\n",
       "      <td>0.0</td>\n",
       "      <td>0.00000</td>\n",
       "      <td>0.000000</td>\n",
       "      <td>0.0</td>\n",
       "      <td>0.0</td>\n",
       "      <td>0.0</td>\n",
       "      <td>0.000000</td>\n",
       "      <td>что</td>\n",
       "    </tr>\n",
       "    <tr>\n",
       "      <th>4</th>\n",
       "      <td>0.000000</td>\n",
       "      <td>0.0</td>\n",
       "      <td>0.0</td>\n",
       "      <td>0.000000</td>\n",
       "      <td>0.000000</td>\n",
       "      <td>0.0</td>\n",
       "      <td>0.000000</td>\n",
       "      <td>0.0</td>\n",
       "      <td>0.0</td>\n",
       "      <td>0.0</td>\n",
       "      <td>...</td>\n",
       "      <td>0.000000</td>\n",
       "      <td>0.0</td>\n",
       "      <td>0.0</td>\n",
       "      <td>0.58915</td>\n",
       "      <td>0.000000</td>\n",
       "      <td>0.0</td>\n",
       "      <td>0.0</td>\n",
       "      <td>0.0</td>\n",
       "      <td>0.741603</td>\n",
       "      <td>что</td>\n",
       "    </tr>\n",
       "    <tr>\n",
       "      <th>...</th>\n",
       "      <td>...</td>\n",
       "      <td>...</td>\n",
       "      <td>...</td>\n",
       "      <td>...</td>\n",
       "      <td>...</td>\n",
       "      <td>...</td>\n",
       "      <td>...</td>\n",
       "      <td>...</td>\n",
       "      <td>...</td>\n",
       "      <td>...</td>\n",
       "      <td>...</td>\n",
       "      <td>...</td>\n",
       "      <td>...</td>\n",
       "      <td>...</td>\n",
       "      <td>...</td>\n",
       "      <td>...</td>\n",
       "      <td>...</td>\n",
       "      <td>...</td>\n",
       "      <td>...</td>\n",
       "      <td>...</td>\n",
       "      <td>...</td>\n",
       "    </tr>\n",
       "    <tr>\n",
       "      <th>273085</th>\n",
       "      <td>0.000000</td>\n",
       "      <td>0.0</td>\n",
       "      <td>0.0</td>\n",
       "      <td>0.611472</td>\n",
       "      <td>0.000000</td>\n",
       "      <td>0.0</td>\n",
       "      <td>0.000000</td>\n",
       "      <td>0.0</td>\n",
       "      <td>0.0</td>\n",
       "      <td>0.0</td>\n",
       "      <td>...</td>\n",
       "      <td>0.000000</td>\n",
       "      <td>0.0</td>\n",
       "      <td>0.0</td>\n",
       "      <td>0.00000</td>\n",
       "      <td>0.000000</td>\n",
       "      <td>0.0</td>\n",
       "      <td>0.0</td>\n",
       "      <td>0.0</td>\n",
       "      <td>0.000000</td>\n",
       "      <td>утро</td>\n",
       "    </tr>\n",
       "    <tr>\n",
       "      <th>273086</th>\n",
       "      <td>0.000000</td>\n",
       "      <td>0.0</td>\n",
       "      <td>0.0</td>\n",
       "      <td>0.000000</td>\n",
       "      <td>0.522181</td>\n",
       "      <td>0.0</td>\n",
       "      <td>0.000000</td>\n",
       "      <td>0.0</td>\n",
       "      <td>0.0</td>\n",
       "      <td>0.0</td>\n",
       "      <td>...</td>\n",
       "      <td>0.000000</td>\n",
       "      <td>0.0</td>\n",
       "      <td>0.0</td>\n",
       "      <td>0.00000</td>\n",
       "      <td>0.000000</td>\n",
       "      <td>0.0</td>\n",
       "      <td>0.0</td>\n",
       "      <td>0.0</td>\n",
       "      <td>0.000000</td>\n",
       "      <td>утро</td>\n",
       "    </tr>\n",
       "    <tr>\n",
       "      <th>273087</th>\n",
       "      <td>0.000000</td>\n",
       "      <td>0.0</td>\n",
       "      <td>0.0</td>\n",
       "      <td>0.000000</td>\n",
       "      <td>0.000000</td>\n",
       "      <td>0.0</td>\n",
       "      <td>0.664696</td>\n",
       "      <td>0.0</td>\n",
       "      <td>0.0</td>\n",
       "      <td>0.0</td>\n",
       "      <td>...</td>\n",
       "      <td>0.000000</td>\n",
       "      <td>0.0</td>\n",
       "      <td>0.0</td>\n",
       "      <td>0.00000</td>\n",
       "      <td>0.000000</td>\n",
       "      <td>0.0</td>\n",
       "      <td>0.0</td>\n",
       "      <td>0.0</td>\n",
       "      <td>0.000000</td>\n",
       "      <td>утро</td>\n",
       "    </tr>\n",
       "    <tr>\n",
       "      <th>273088</th>\n",
       "      <td>0.422471</td>\n",
       "      <td>0.0</td>\n",
       "      <td>0.0</td>\n",
       "      <td>0.000000</td>\n",
       "      <td>0.000000</td>\n",
       "      <td>0.0</td>\n",
       "      <td>0.000000</td>\n",
       "      <td>0.0</td>\n",
       "      <td>0.0</td>\n",
       "      <td>0.0</td>\n",
       "      <td>...</td>\n",
       "      <td>0.000000</td>\n",
       "      <td>0.0</td>\n",
       "      <td>0.0</td>\n",
       "      <td>0.00000</td>\n",
       "      <td>0.000000</td>\n",
       "      <td>0.0</td>\n",
       "      <td>0.0</td>\n",
       "      <td>0.0</td>\n",
       "      <td>0.000000</td>\n",
       "      <td>утро</td>\n",
       "    </tr>\n",
       "    <tr>\n",
       "      <th>273089</th>\n",
       "      <td>0.440469</td>\n",
       "      <td>0.0</td>\n",
       "      <td>0.0</td>\n",
       "      <td>0.000000</td>\n",
       "      <td>0.000000</td>\n",
       "      <td>0.0</td>\n",
       "      <td>0.000000</td>\n",
       "      <td>0.0</td>\n",
       "      <td>0.0</td>\n",
       "      <td>0.0</td>\n",
       "      <td>...</td>\n",
       "      <td>0.000000</td>\n",
       "      <td>0.0</td>\n",
       "      <td>0.0</td>\n",
       "      <td>0.00000</td>\n",
       "      <td>0.000000</td>\n",
       "      <td>0.0</td>\n",
       "      <td>0.0</td>\n",
       "      <td>0.0</td>\n",
       "      <td>0.000000</td>\n",
       "      <td>утро</td>\n",
       "    </tr>\n",
       "  </tbody>\n",
       "</table>\n",
       "<p>273090 rows × 34 columns</p>\n",
       "</div>"
      ],
      "text/plain": [
       "               а    б    в         г         д    е         ж    з    и    й  \\\n",
       "0       0.000000  0.0  0.0  0.000000  0.000000  0.0  0.000000  0.0  0.0  0.0   \n",
       "1       0.000000  0.0  0.0  0.000000  0.000000  0.0  0.000000  0.0  0.0  0.0   \n",
       "2       0.000000  0.0  0.0  0.000000  0.000000  0.0  0.000000  0.0  0.0  0.0   \n",
       "3       0.000000  0.0  0.0  0.000000  0.000000  0.0  0.000000  0.0  0.0  0.0   \n",
       "4       0.000000  0.0  0.0  0.000000  0.000000  0.0  0.000000  0.0  0.0  0.0   \n",
       "...          ...  ...  ...       ...       ...  ...       ...  ...  ...  ...   \n",
       "273085  0.000000  0.0  0.0  0.611472  0.000000  0.0  0.000000  0.0  0.0  0.0   \n",
       "273086  0.000000  0.0  0.0  0.000000  0.522181  0.0  0.000000  0.0  0.0  0.0   \n",
       "273087  0.000000  0.0  0.0  0.000000  0.000000  0.0  0.664696  0.0  0.0  0.0   \n",
       "273088  0.422471  0.0  0.0  0.000000  0.000000  0.0  0.000000  0.0  0.0  0.0   \n",
       "273089  0.440469  0.0  0.0  0.000000  0.000000  0.0  0.000000  0.0  0.0  0.0   \n",
       "\n",
       "        ...         ш    щ    ъ        ы         ь    э    ю    я         ё  \\\n",
       "0       ...  0.000000  0.0  0.0  0.00000  0.000000  0.0  0.0  0.0  0.000000   \n",
       "1       ...  0.678188  0.0  0.0  0.00000  0.000000  0.0  0.0  0.0  0.000000   \n",
       "2       ...  0.000000  0.0  0.0  0.00000  0.517981  0.0  0.0  0.0  0.000000   \n",
       "3       ...  0.000000  0.0  0.0  0.00000  0.000000  0.0  0.0  0.0  0.000000   \n",
       "4       ...  0.000000  0.0  0.0  0.58915  0.000000  0.0  0.0  0.0  0.741603   \n",
       "...     ...       ...  ...  ...      ...       ...  ...  ...  ...       ...   \n",
       "273085  ...  0.000000  0.0  0.0  0.00000  0.000000  0.0  0.0  0.0  0.000000   \n",
       "273086  ...  0.000000  0.0  0.0  0.00000  0.000000  0.0  0.0  0.0  0.000000   \n",
       "273087  ...  0.000000  0.0  0.0  0.00000  0.000000  0.0  0.0  0.0  0.000000   \n",
       "273088  ...  0.000000  0.0  0.0  0.00000  0.000000  0.0  0.0  0.0  0.000000   \n",
       "273089  ...  0.000000  0.0  0.0  0.00000  0.000000  0.0  0.0  0.0  0.000000   \n",
       "\n",
       "        labels  \n",
       "0          что  \n",
       "1          что  \n",
       "2          что  \n",
       "3          что  \n",
       "4          что  \n",
       "...        ...  \n",
       "273085    утро  \n",
       "273086    утро  \n",
       "273087    утро  \n",
       "273088    утро  \n",
       "273089    утро  \n",
       "\n",
       "[273090 rows x 34 columns]"
      ]
     },
     "execution_count": 58,
     "metadata": {},
     "output_type": "execute_result"
    }
   ],
   "source": [
    "df['labels'] = labels\n",
    "df"
   ]
  },
  {
   "cell_type": "code",
   "execution_count": 59,
   "id": "6844b43e",
   "metadata": {},
   "outputs": [],
   "source": [
    "from sklearn.model_selection import train_test_split\n",
    "from sklearn.metrics  import f1_score, accuracy_score\n",
    "from sklearn.metrics import mean_absolute_error\n",
    "\n",
    "from sklearn.naive_bayes import GaussianNB\n",
    "from sklearn.naive_bayes import MultinomialNB\n",
    "from sklearn.tree import DecisionTreeClassifier\n",
    "from sklearn.naive_bayes import GaussianNB\n",
    "from sklearn.naive_bayes import MultinomialNB\n",
    "from sklearn.naive_bayes import BernoulliNB\n",
    "from sklearn.neighbors import KNeighborsClassifier\n",
    "from sklearn.linear_model import LogisticRegression"
   ]
  },
  {
   "cell_type": "markdown",
   "id": "da8ee923",
   "metadata": {},
   "source": [
    "## Перейдем к обучению модели"
   ]
  },
  {
   "cell_type": "markdown",
   "id": "52f97459",
   "metadata": {},
   "source": [
    "**Создадим pipeline для более простого тестирования в дальнейшем**"
   ]
  },
  {
   "cell_type": "code",
   "execution_count": 60,
   "id": "29badeb9",
   "metadata": {},
   "outputs": [
    {
     "name": "stdout",
     "output_type": "stream",
     "text": [
      "Data size: 273090\n"
     ]
    }
   ],
   "source": [
    "print(\"Data size:\", len(corpus))"
   ]
  },
  {
   "cell_type": "code",
   "execution_count": 61,
   "id": "a0803520",
   "metadata": {},
   "outputs": [],
   "source": [
    "# варианты моделей:\n",
    "# DecisionTreeClassifier()\n",
    "\n",
    "# MultinomialNB()\n",
    "# KNeighborsClassifier()\n",
    "# LogisticRegression()\n",
    "\n",
    "# требует доп настройки\n",
    "# from sklearn.ensemble import RandomForestClassifier\n",
    "# from sklearn.datasets import make_classification\n",
    "\n",
    "## pipline, основанный на TfidfVectorizer и DecisionTreeClassifier()\n",
    "from sklearn.pipeline import Pipeline\n",
    "model_pipeline = Pipeline([\n",
    "    (\"vecorizer\", TfidfVectorizer(tokenizer = lambda x: _tokenize(x))),\n",
    "    (\"model\", DecisionTreeClassifier())\n",
    "]\n",
    ")\n",
    "X = corpus\n",
    "y = labels"
   ]
  },
  {
   "cell_type": "markdown",
   "id": "f2832e96",
   "metadata": {},
   "source": [
    "**обучим модель**"
   ]
  },
  {
   "cell_type": "code",
   "execution_count": 62,
   "id": "34cc7091",
   "metadata": {},
   "outputs": [
    {
     "name": "stdout",
     "output_type": "stream",
     "text": [
      "Train-test split: 0.3 secs\n",
      "Training: 22.08 secs\n"
     ]
    }
   ],
   "source": [
    "start = time.time()\n",
    "X_train, X_test, y_train, y_test = train_test_split(X, y, test_size = 0.2, random_state = 42)\n",
    "end = time.time()\n",
    "duration = round(end - start, 2)\n",
    "print(\"Train-test split: \" + str(duration) + \" secs\")\n",
    "\n",
    "start = time.time()\n",
    "model_pipeline.fit(X_train, y_train)\n",
    "end = time.time()\n",
    "duration = round(end - start, 2)\n",
    "print(\"Training: \" + str(duration) + \" secs\")"
   ]
  },
  {
   "cell_type": "code",
   "execution_count": 63,
   "id": "2063751f",
   "metadata": {},
   "outputs": [
    {
     "name": "stdout",
     "output_type": "stream",
     "text": [
      "сам\n"
     ]
    }
   ],
   "source": [
    "print(model_pipeline.predict(['мама'])[0])"
   ]
  },
  {
   "cell_type": "code",
   "execution_count": null,
   "id": "846caa93",
   "metadata": {},
   "outputs": [],
   "source": []
  },
  {
   "cell_type": "code",
   "execution_count": 41,
   "id": "a6252d62",
   "metadata": {},
   "outputs": [],
   "source": [
    "from sklearn.pipeline import Pipeline\n",
    "\n",
    "\n",
    "class OnlinePipeline(Pipeline):\n",
    "    def partial_fit(self, X, y = None):\n",
    "        for i, step in enumerate(self.steps):\n",
    "            name, est = step\n",
    "            est.partial_fit(X, y)\n",
    "            if i < len(self.steps) - 1:\n",
    "                X = est.transform(X)\n",
    "        return self\n",
    "\n",
    "model_pipeline = OnlinePipeline([\n",
    "    (\"vecorizer\", TfidfVectorizer(tokenizer = lambda x: _tokenize(x))),\n",
    "    (\"model\", DecisionTreeClassifier())\n",
    "]\n",
    ")\n",
    "\n",
    "X = corpus\n",
    "y = labels"
   ]
  },
  {
   "cell_type": "code",
   "execution_count": 83,
   "id": "b70ce696",
   "metadata": {},
   "outputs": [
    {
     "name": "stdout",
     "output_type": "stream",
     "text": [
      "Train-test split: 0.09 secs\n",
      "109236\n",
      "109236\n"
     ]
    },
    {
     "data": {
      "text/plain": [
       "'t = 273090/2\\nmodel_pipeline.fit(X_train[0: t], y_train[t: 273090]'"
      ]
     },
     "execution_count": 83,
     "metadata": {},
     "output_type": "execute_result"
    }
   ],
   "source": [
    "start = time.time()\n",
    "X_train, X_test, y_train, y_test = train_test_split(X, y, test_size = 0.2, random_state = 42)\n",
    "end = time.time()\n",
    "duration = round(end - start, 2)\n",
    "print(\"Train-test split: \" + str(duration) + \" secs\")\n",
    "\n",
    "a = int(len(X_train)/3)\n",
    "sum_t = 0\n",
    "\n",
    "\n",
    "div = 100\n",
    "part = int(len(X_train)/div)\n",
    "\n",
    "'''for i in range(1, div + 1):\n",
    "    start = time.time()\n",
    "    print((i*(part) - part), \":\", i*(part))\n",
    "    model_pipeline.fit(X_train[(i*(part) - part): i*(part)], y_train[(i*(part) - part): i*(part)])\n",
    "    end = time.time()\n",
    "    duration = round(end - start, 2)\n",
    "    sum_t += duration\n",
    "    if(i % 10 == 1):\n",
    "        print(\"Training round \" + str(i) + \": \" + str(sum_t) + \" secs\")'''\n",
    "    \n",
    "\n",
    "#print(\"        Training: \" + str(sum_t) + \" secs\")\n",
    "t = int(len(X_train)/2)\n",
    "print(len(X_train[0: t]))\n",
    "print(len(X_train[t:]))\n",
    "'''t = 273090/2\n",
    "model_pipeline.fit(X_train[0: t], y_train[t: 273090]'''\n"
   ]
  },
  {
   "cell_type": "markdown",
   "id": "17a9d8dd",
   "metadata": {},
   "source": [
    "**Теперь протестируем обученную модель**"
   ]
  },
  {
   "cell_type": "code",
   "execution_count": 74,
   "id": "75fb980c",
   "metadata": {},
   "outputs": [
    {
     "name": "stdout",
     "output_type": "stream",
     "text": [
      "Testing: 0.34 secs\n",
      "accuracy: 0.4090592844849683\n",
      "      f1: 0.2998841157518703\n"
     ]
    }
   ],
   "source": [
    "start = time.time()\n",
    "pred = model_pipeline.predict(X_test)\n",
    "end = time.time()\n",
    "duration = round(end - start, 2)\n",
    "\n",
    "print(\"Testing: \" + str(duration) + \" secs\")\n",
    "print('accuracy:', accuracy_score(y_test, pred))\n",
    "print('      f1:', f1_score(y_test, pred, average = 'macro'))\n",
    "# print('    mean:', mean_absolute_error(y_test, pred))"
   ]
  },
  {
   "cell_type": "markdown",
   "id": "bce89e44",
   "metadata": {},
   "source": [
    "    Testing: 0.37 secs\n",
    "    accuracy: 0.721703467721264\n",
    "          f1: 0.5964781878693777"
   ]
  },
  {
   "cell_type": "markdown",
   "id": "e13bc7cf",
   "metadata": {},
   "source": [
    "## Проведем \"живой\" тест на модели"
   ]
  },
  {
   "cell_type": "code",
   "execution_count": 24,
   "id": "0ded9cb6",
   "metadata": {},
   "outputs": [
    {
     "name": "stdout",
     "output_type": "stream",
     "text": [
      "быть или не ыиь\n",
      "быть или не или "
     ]
    }
   ],
   "source": [
    "pins = input()\n",
    "pins = re.findall(r'[а-я]+', pins.lower())\n",
    "\n",
    "for pin in pins:\n",
    "    if len(pin) > 2:\n",
    "        print(model_pipeline.predict([pin])[0], end = ' ')\n",
    "    else:\n",
    "        print(pin, end = ' ')"
   ]
  },
  {
   "cell_type": "code",
   "execution_count": 32,
   "id": "9f0b9d30",
   "metadata": {},
   "outputs": [
    {
     "name": "stdout",
     "output_type": "stream",
     "text": [
      "False\n"
     ]
    }
   ],
   "source": [
    "# для проверки, есть ли слово в исходном словаре\n",
    "print('привет' in list_of_words)"
   ]
  },
  {
   "cell_type": "code",
   "execution_count": null,
   "id": "564ff3f0",
   "metadata": {},
   "outputs": [],
   "source": []
  },
  {
   "cell_type": "markdown",
   "id": "c1abb983",
   "metadata": {},
   "source": [
    "## bin"
   ]
  },
  {
   "cell_type": "code",
   "execution_count": 303,
   "id": "24d8cb4d",
   "metadata": {},
   "outputs": [
    {
     "name": "stdout",
     "output_type": "stream",
     "text": [
      "Memory usage is 182.116 MB\n"
     ]
    }
   ],
   "source": [
    "def convert_to_sparse_pandas(df, exclude_columns = []):\n",
    "    df = df.copy()\n",
    "    exclude_columns = set(exclude_columns)\n",
    "\n",
    "    for (columnName, columnData) in df.iteritems():\n",
    "        if columnName in exclude_columns:\n",
    "            continue\n",
    "        df[columnName] = pd.arrays.SparseArray(columnData.values, dtype = np.float16)\n",
    "\n",
    "    return df\n",
    "\n",
    "df_sparse = convert_to_sparse_pandas(df, exclude_columns = [\"label\"])\n",
    "# display(df_sparse.dtypes)\n",
    "print_memory_usage_of_data_frame(df_sparse)"
   ]
  },
  {
   "cell_type": "code",
   "execution_count": 105,
   "id": "bffcb3cd",
   "metadata": {},
   "outputs": [
    {
     "name": "stdout",
     "output_type": "stream",
     "text": [
      "0.6571622078283824\n",
      "0.5426987035755111\n",
      "53.354150671547565\n"
     ]
    }
   ],
   "source": [
    "from sklearn.metrics import mean_absolute_error\n",
    "from sklearn.metrics import r2_score\n",
    "\n",
    "print(accuracy_score(y_test, pred))\n",
    "print(f1_score(y_test, pred, average = 'macro'))\n",
    "\n",
    "print(mean_absolute_error(y_test, pred))"
   ]
  },
  {
   "cell_type": "code",
   "execution_count": 304,
   "id": "344750e0",
   "metadata": {},
   "outputs": [
    {
     "name": "stdout",
     "output_type": "stream",
     "text": [
      "X:\n",
      "Memory usage is 233.391 MB\n",
      "X_sparse:\n",
      "Memory usage is 175.044 MB\n",
      "X_csr:\n",
      "Memory usage is 68.581552 MB\n",
      "X_binary:\n",
      "Memory usage is 68.581552 MB\n"
     ]
    }
   ],
   "source": [
    "y = df['label']\n",
    "X = df[df.columns.difference(['label'])]\n",
    "\n",
    "y_sparse = df_sparse['label']\n",
    "X_sparse = df_sparse[df_sparse.columns.difference(['label'])]\n",
    "\n",
    "y_csr = df['label']\n",
    "X_csr = V\n",
    "\n",
    "y_binary = df['label']\n",
    "X_binary = V_bin\n",
    "\n",
    "print('X:')\n",
    "print_memory_usage_of_data_frame(X)\n",
    "print('X_sparse:')\n",
    "print_memory_usage_of_data_frame(X_sparse)\n",
    "print('X_csr:')\n",
    "get_csr_memory_usage(X_csr)\n",
    "print('X_binary:')\n",
    "get_csr_memory_usage(X_binary)"
   ]
  },
  {
   "cell_type": "code",
   "execution_count": 307,
   "id": "fed72e5d",
   "metadata": {},
   "outputs": [
    {
     "name": "stdout",
     "output_type": "stream",
     "text": [
      "Scipy sparse matrix\n",
      "Testing: 0.32 secs\n",
      "accuracy: 0.011158744881569125\n",
      "      f1: 0.014289106223557658\n",
      "    mean: 188.53618532678777\n",
      "\n",
      "\n",
      "Scipy sparse matrix binary\n",
      "Testing: 0.49 secs\n",
      "accuracy: 0.708187227111282\n",
      "      f1: 0.5981014691555474\n",
      "    mean: 45.30782978530869\n",
      "\n",
      "\n"
     ]
    }
   ],
   "source": [
    "for i in range(len(models)):\n",
    "    print(list_of_names[i])\n",
    "    test(models[i], X_tests_arr[i], Y_tests_arr[i])"
   ]
  },
  {
   "cell_type": "code",
   "execution_count": 306,
   "id": "a331e81e",
   "metadata": {},
   "outputs": [],
   "source": [
    "def test(mod, Xtest, Ytest):\n",
    "    start = time.time()\n",
    "    pred = mod.predict(Xtest)\n",
    "    end = time.time()\n",
    "    duration = round(end - start, 2)\n",
    "    print(\"Testing: \" + str(duration) + \" secs\")\n",
    "    print('accuracy:', accuracy_score(Ytest, pred))\n",
    "    print('      f1:', f1_score(Ytest, pred, average = 'macro'))\n",
    "    print('    mean:', mean_absolute_error(Ytest, pred))\n",
    "    print(\"\\n\")"
   ]
  },
  {
   "cell_type": "code",
   "execution_count": 313,
   "id": "e1e2ab54",
   "metadata": {},
   "outputs": [
    {
     "name": "stdout",
     "output_type": "stream",
     "text": [
      "Scipy sparse matrix\n",
      "Train-test split: 0.26 secs\n"
     ]
    },
    {
     "ename": "KeyboardInterrupt",
     "evalue": "",
     "output_type": "error",
     "traceback": [
      "\u001b[1;31m---------------------------------------------------------------------------\u001b[0m",
      "\u001b[1;31mKeyboardInterrupt\u001b[0m                         Traceback (most recent call last)",
      "Input \u001b[1;32mIn [313]\u001b[0m, in \u001b[0;36m<cell line: 23>\u001b[1;34m()\u001b[0m\n\u001b[0;32m     35\u001b[0m \u001b[38;5;28mprint\u001b[39m(\u001b[38;5;124m\"\u001b[39m\u001b[38;5;124mTrain-test split: \u001b[39m\u001b[38;5;124m\"\u001b[39m \u001b[38;5;241m+\u001b[39m \u001b[38;5;28mstr\u001b[39m(duration) \u001b[38;5;241m+\u001b[39m \u001b[38;5;124m\"\u001b[39m\u001b[38;5;124m secs\u001b[39m\u001b[38;5;124m\"\u001b[39m)\n\u001b[0;32m     37\u001b[0m start \u001b[38;5;241m=\u001b[39m time\u001b[38;5;241m.\u001b[39mtime()\n\u001b[1;32m---> 38\u001b[0m \u001b[43mmodel\u001b[49m\u001b[38;5;241;43m.\u001b[39;49m\u001b[43mfit\u001b[49m\u001b[43m(\u001b[49m\u001b[43mX_train\u001b[49m\u001b[43m,\u001b[49m\u001b[43m \u001b[49m\u001b[43my_train\u001b[49m\u001b[43m)\u001b[49m\n\u001b[0;32m     40\u001b[0m end \u001b[38;5;241m=\u001b[39m time\u001b[38;5;241m.\u001b[39mtime()\n\u001b[0;32m     41\u001b[0m duration \u001b[38;5;241m=\u001b[39m \u001b[38;5;28mround\u001b[39m(end \u001b[38;5;241m-\u001b[39m start, \u001b[38;5;241m2\u001b[39m)\n",
      "File \u001b[1;32m~\\AppData\\Local\\Programs\\Python\\Python310\\lib\\site-packages\\sklearn\\tree\\_classes.py:937\u001b[0m, in \u001b[0;36mDecisionTreeClassifier.fit\u001b[1;34m(self, X, y, sample_weight, check_input, X_idx_sorted)\u001b[0m\n\u001b[0;32m    899\u001b[0m \u001b[38;5;28;01mdef\u001b[39;00m \u001b[38;5;21mfit\u001b[39m(\n\u001b[0;32m    900\u001b[0m     \u001b[38;5;28mself\u001b[39m, X, y, sample_weight\u001b[38;5;241m=\u001b[39m\u001b[38;5;28;01mNone\u001b[39;00m, check_input\u001b[38;5;241m=\u001b[39m\u001b[38;5;28;01mTrue\u001b[39;00m, X_idx_sorted\u001b[38;5;241m=\u001b[39m\u001b[38;5;124m\"\u001b[39m\u001b[38;5;124mdeprecated\u001b[39m\u001b[38;5;124m\"\u001b[39m\n\u001b[0;32m    901\u001b[0m ):\n\u001b[0;32m    902\u001b[0m     \u001b[38;5;124;03m\"\"\"Build a decision tree classifier from the training set (X, y).\u001b[39;00m\n\u001b[0;32m    903\u001b[0m \n\u001b[0;32m    904\u001b[0m \u001b[38;5;124;03m    Parameters\u001b[39;00m\n\u001b[1;32m   (...)\u001b[0m\n\u001b[0;32m    934\u001b[0m \u001b[38;5;124;03m        Fitted estimator.\u001b[39;00m\n\u001b[0;32m    935\u001b[0m \u001b[38;5;124;03m    \"\"\"\u001b[39;00m\n\u001b[1;32m--> 937\u001b[0m     \u001b[38;5;28;43msuper\u001b[39;49m\u001b[43m(\u001b[49m\u001b[43m)\u001b[49m\u001b[38;5;241;43m.\u001b[39;49m\u001b[43mfit\u001b[49m\u001b[43m(\u001b[49m\n\u001b[0;32m    938\u001b[0m \u001b[43m        \u001b[49m\u001b[43mX\u001b[49m\u001b[43m,\u001b[49m\n\u001b[0;32m    939\u001b[0m \u001b[43m        \u001b[49m\u001b[43my\u001b[49m\u001b[43m,\u001b[49m\n\u001b[0;32m    940\u001b[0m \u001b[43m        \u001b[49m\u001b[43msample_weight\u001b[49m\u001b[38;5;241;43m=\u001b[39;49m\u001b[43msample_weight\u001b[49m\u001b[43m,\u001b[49m\n\u001b[0;32m    941\u001b[0m \u001b[43m        \u001b[49m\u001b[43mcheck_input\u001b[49m\u001b[38;5;241;43m=\u001b[39;49m\u001b[43mcheck_input\u001b[49m\u001b[43m,\u001b[49m\n\u001b[0;32m    942\u001b[0m \u001b[43m        \u001b[49m\u001b[43mX_idx_sorted\u001b[49m\u001b[38;5;241;43m=\u001b[39;49m\u001b[43mX_idx_sorted\u001b[49m\u001b[43m,\u001b[49m\n\u001b[0;32m    943\u001b[0m \u001b[43m    \u001b[49m\u001b[43m)\u001b[49m\n\u001b[0;32m    944\u001b[0m     \u001b[38;5;28;01mreturn\u001b[39;00m \u001b[38;5;28mself\u001b[39m\n",
      "File \u001b[1;32m~\\AppData\\Local\\Programs\\Python\\Python310\\lib\\site-packages\\sklearn\\tree\\_classes.py:420\u001b[0m, in \u001b[0;36mBaseDecisionTree.fit\u001b[1;34m(self, X, y, sample_weight, check_input, X_idx_sorted)\u001b[0m\n\u001b[0;32m    409\u001b[0m \u001b[38;5;28;01melse\u001b[39;00m:\n\u001b[0;32m    410\u001b[0m     builder \u001b[38;5;241m=\u001b[39m BestFirstTreeBuilder(\n\u001b[0;32m    411\u001b[0m         splitter,\n\u001b[0;32m    412\u001b[0m         min_samples_split,\n\u001b[1;32m   (...)\u001b[0m\n\u001b[0;32m    417\u001b[0m         \u001b[38;5;28mself\u001b[39m\u001b[38;5;241m.\u001b[39mmin_impurity_decrease,\n\u001b[0;32m    418\u001b[0m     )\n\u001b[1;32m--> 420\u001b[0m \u001b[43mbuilder\u001b[49m\u001b[38;5;241;43m.\u001b[39;49m\u001b[43mbuild\u001b[49m\u001b[43m(\u001b[49m\u001b[38;5;28;43mself\u001b[39;49m\u001b[38;5;241;43m.\u001b[39;49m\u001b[43mtree_\u001b[49m\u001b[43m,\u001b[49m\u001b[43m \u001b[49m\u001b[43mX\u001b[49m\u001b[43m,\u001b[49m\u001b[43m \u001b[49m\u001b[43my\u001b[49m\u001b[43m,\u001b[49m\u001b[43m \u001b[49m\u001b[43msample_weight\u001b[49m\u001b[43m)\u001b[49m\n\u001b[0;32m    422\u001b[0m \u001b[38;5;28;01mif\u001b[39;00m \u001b[38;5;28mself\u001b[39m\u001b[38;5;241m.\u001b[39mn_outputs_ \u001b[38;5;241m==\u001b[39m \u001b[38;5;241m1\u001b[39m \u001b[38;5;129;01mand\u001b[39;00m is_classifier(\u001b[38;5;28mself\u001b[39m):\n\u001b[0;32m    423\u001b[0m     \u001b[38;5;28mself\u001b[39m\u001b[38;5;241m.\u001b[39mn_classes_ \u001b[38;5;241m=\u001b[39m \u001b[38;5;28mself\u001b[39m\u001b[38;5;241m.\u001b[39mn_classes_[\u001b[38;5;241m0\u001b[39m]\n",
      "\u001b[1;31mKeyboardInterrupt\u001b[0m: "
     ]
    }
   ],
   "source": [
    "models = []\n",
    "list_of_names = []\n",
    "X_tests_arr = []\n",
    "Y_tests_arr = []\n",
    "\n",
    "model = DecisionTreeClassifier()\n",
    "# model = BernoulliNB()\n",
    "\n",
    "# model = GaussianNB()\n",
    "# model = MultinomialNB()\n",
    "# msodel = GaussianNB()\n",
    "# model = MultinomialNB()\n",
    "# model = KNeighborsClassifier()\n",
    "# model = LogisticRegression()\n",
    "\n",
    "\n",
    "#     'Pandas dataframe': [X, y],\n",
    "vector_dict = {\n",
    "     'Scipy sparse matrix': [X_csr, y_csr],\n",
    "     'Scipy sparse matrix binary': [X_binary, y_binary]\n",
    "    }\n",
    "\n",
    "for key, item in vector_dict.items():\n",
    "    print(key)\n",
    "    list_of_names.append(key)\n",
    "    start = time.time()\n",
    "    if (key != 'Pandas dataframe'):\n",
    "        XX = item[0].toarray()\n",
    "    else:\n",
    "        XX = X\n",
    "        \n",
    "    X_train, X_test, y_train, y_test = train_test_split(XX, y, test_size = 0.2, random_state = 42)\n",
    "    end = time.time()\n",
    "    duration = round(end - start, 2)\n",
    "    print(\"Train-test split: \" + str(duration) + \" secs\")\n",
    "\n",
    "    start = time.time()\n",
    "    model.fit(X_train, y_train)\n",
    "\n",
    "    end = time.time()\n",
    "    duration = round(end - start, 2)\n",
    "    \n",
    "    models.append(model)\n",
    "    X_tests_arr.append(X_test)\n",
    "    Y_tests_arr.append(y_test)\n",
    "    print(\"Training: \" + str(duration) + \" secs\")\n",
    "    print(\"\\n\")"
   ]
  },
  {
   "cell_type": "code",
   "execution_count": null,
   "id": "06e21790",
   "metadata": {},
   "outputs": [],
   "source": [
    "tokets_list = vectorizer_bin.get_feature_names_out()\n",
    "\n",
    "def _tokenize2(pin):\n",
    "    return [a + a for a in pin]\n",
    "\n",
    "pins = input()\n",
    "pins = re.findall(r'[а-я]+', pins.lower())\n",
    "\n",
    "for pin in pins:\n",
    "    if(len(pin) < 3):\n",
    "        print(pin, end = ' ')\n",
    "        continue\n",
    "    pin_vec = [0]*33\n",
    "    pin = _tokenize2(pin)\n",
    "    for i in range(33):\n",
    "        if tokets_list[i] in pin:\n",
    "            pin_vec[i] = 1\n",
    "\n",
    "    predict = models[0].predict([pin_vec])\n",
    "    print(list_of_words[predict[0]], end = ' ')"
   ]
  }
 ],
 "metadata": {
  "kernelspec": {
   "display_name": "Python 3 (ipykernel)",
   "language": "python",
   "name": "python3"
  },
  "language_info": {
   "codemirror_mode": {
    "name": "ipython",
    "version": 3
   },
   "file_extension": ".py",
   "mimetype": "text/x-python",
   "name": "python",
   "nbconvert_exporter": "python",
   "pygments_lexer": "ipython3",
   "version": "3.10.4"
  }
 },
 "nbformat": 4,
 "nbformat_minor": 5
}
