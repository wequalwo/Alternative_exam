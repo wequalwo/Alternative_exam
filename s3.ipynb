{
 "cells": [
  {
   "cell_type": "code",
   "execution_count": 1,
   "id": "b43db559",
   "metadata": {},
   "outputs": [],
   "source": [
    "import pandas as pd\n",
    "import numpy as np\n",
    "import nltk\n",
    "\n",
    "import re #регулярные выражения\n",
    "import math\n",
    "from collections import Counter\n",
    "import requests\n",
    "import time\n",
    "\n",
    "alphabet = 'абвгдеёжзийклмнопрстуфхцчшщъыьэюя'\n",
    "\n",
    "# nltk.download('stopwords') # to use stopwords\n",
    "# nltk.download('punkt') # to use word_tokenize"
   ]
  },
  {
   "cell_type": "code",
   "execution_count": 4,
   "id": "73fee5d2",
   "metadata": {},
   "outputs": [],
   "source": [
    "# служебные функция для расчета памяти, заниаемой dataframe и csr\n",
    "BYTES_TO_MB_DIV = 0.000001\n",
    "def print_memory_usage_of_data_frame(df):\n",
    "    mem = round(df.memory_usage().sum() * BYTES_TO_MB_DIV, 3) \n",
    "    print(\"Memory usage is \" + str(mem) + \" MB\")\n",
    "    \n",
    "def get_csr_memory_usage(matrix):\n",
    "    mem = (matrix.data.nbytes + matrix.indptr.nbytes + matrix.indices.nbytes) * BYTES_TO_MB_DIV\n",
    "    print(\"Memory usage is \" + str(mem) + \" MB\")"
   ]
  },
  {
   "cell_type": "code",
   "execution_count": 5,
   "id": "15c9ebc9",
   "metadata": {},
   "outputs": [
    {
     "name": "stdout",
     "output_type": "stream",
     "text": [
      "['Это', 'простое', 'предложение', 'показывает', 'фильтрацию', 'на', 'стоп-слова']\n",
      "['Это', 'простое', 'предложение', 'показывает', 'фильтрацию', 'стоп-слова']\n",
      "Стоп-слова русского языка:\n",
      "['и', 'в', 'во', 'не', 'что', 'он', 'на', 'я', 'с', 'со', 'как', 'а', 'то', 'все', 'она', 'так', 'его', 'но', 'да', 'ты', 'к', 'у', 'же', 'вы', 'за', 'бы', 'по', 'только', 'ее', 'мне', 'было', 'вот', 'от', 'меня', 'еще', 'нет', 'о', 'из', 'ему', 'теперь', 'когда', 'даже', 'ну', 'вдруг', 'ли', 'если', 'уже', 'или', 'ни', 'быть', 'был', 'него', 'до', 'вас', 'нибудь', 'опять', 'уж', 'вам', 'ведь', 'там', 'потом', 'себя', 'ничего', 'ей', 'может', 'они', 'тут', 'где', 'есть', 'надо', 'ней', 'для', 'мы', 'тебя', 'их', 'чем', 'была', 'сам', 'чтоб', 'без', 'будто', 'чего', 'раз', 'тоже', 'себе', 'под', 'будет', 'ж', 'тогда', 'кто', 'этот', 'того', 'потому', 'этого', 'какой', 'совсем', 'ним', 'здесь', 'этом', 'один', 'почти', 'мой', 'тем', 'чтобы', 'нее', 'сейчас', 'были', 'куда', 'зачем', 'всех', 'никогда', 'можно', 'при', 'наконец', 'два', 'об', 'другой', 'хоть', 'после', 'над', 'больше', 'тот', 'через', 'эти', 'нас', 'про', 'всего', 'них', 'какая', 'много', 'разве', 'три', 'эту', 'моя', 'впрочем', 'хорошо', 'свою', 'этой', 'перед', 'иногда', 'лучше', 'чуть', 'том', 'нельзя', 'такой', 'им', 'более', 'всегда', 'конечно', 'всю', 'между']\n"
     ]
    }
   ],
   "source": [
    "# демонстрация идеи токенизации и стоп-слов\n",
    "from nltk.tokenize import sent_tokenize, word_tokenize\n",
    "from nltk.corpus import stopwords as stopwords\n",
    "from nltk.tokenize import word_tokenize\n",
    "\n",
    "example_sent = \"\"\"Это простое предложение показывает фильтрацию на стоп-слова\"\"\"\n",
    " \n",
    "stop_words = set(stopwords.words('russian'))\n",
    "word_tokens = word_tokenize(example_sent)\n",
    "filtered_sentence = [w for w in word_tokens if not w.lower() in stop_words]\n",
    "filtered_sentence = []\n",
    " \n",
    "for w in word_tokens:\n",
    "    if w not in stop_words:\n",
    "        filtered_sentence.append(w)\n",
    "\n",
    "print(word_tokens)\n",
    "print(filtered_sentence)\n",
    "\n",
    "from nltk.corpus import stopwords\n",
    "print(\"Стоп-слова русского языка:\")\n",
    "print(stopwords.words('russian'))"
   ]
  },
  {
   "cell_type": "markdown",
   "id": "bbeb98bc",
   "metadata": {},
   "source": [
    "## Создадим функции, позволяющие генерировать следующие ошибки в словах:\n",
    "\n",
    "1.   **Пропуск буквы:** ${резонанс - рзонанс}$\n",
    "2.   **Дублирование буквы:** ${резонанс - реезонанс}$\n",
    "3.   **Перестановка букв:** ${резонанс - рзеонанс}$\n",
    "4.   **Опечатка:** ${резонанс - ркзонанс}$\n",
    "5.   **Некоторые орфографические ошибки:**  ${резонанс - ризонанс}$\n"
   ]
  },
  {
   "cell_type": "code",
   "execution_count": 43,
   "id": "92be3754",
   "metadata": {},
   "outputs": [],
   "source": [
    "# все ошибки на расстоянии 2 (расстояние Левинштейна)\n",
    "def distance2(word):\n",
    "    return {e2 for e1 in distance1(word) if e1 for e2 in distance1(e1)}\n",
    "\n",
    "# все ошибки на расстоянии 1 (расстояние Левинштейна)\n",
    "def distance1(word):\n",
    "    pairs      = splits(word)\n",
    "    transposes = [a+b[1]+b[0]+b[2:]  for (a,b) in pairs if len(b)>1]                           # перестановки\n",
    "    replaces   = [a+c+b[1:]          for (a,b) in pairs if b for c in replaces_set[b[0]] if b] # замены: \n",
    "                                                                                                        # опечатки, \n",
    "                                                                                                        # пропуски и дублирования букв, \n",
    "                                                                                                        # орфографические ошибки\n",
    "\n",
    "    last_replaces = [word[0:-1] + c for c in replaces_set[word[-1]]]                           # замены в конце слова\n",
    "    #return set(transposes + replaces + last_replaces)\n",
    "    return set(replaces + last_replaces + transposes)\n",
    "\n",
    "def splits(word):\n",
    "    return [(word[:i], word[i:])\n",
    "            for i in range (len(word)+1)]\n",
    "\n",
    "# список возможных замен в слове\n",
    "replaces_set = pd.Series([          \n",
    "               ['с', 'в', 'у', 'к', 'е', 'п', 'м', 'аа', ''],\n",
    "               ['ь', 'о', 'л', 'д', 'ю', 'бб', ''],\n",
    "               ['ч', 'ы', 'ц', 'у', 'к', 'а', 'с', 'вв', ''],\n",
    "               ['р', 'н', 'ш', 'л', 'о', 'гг', ''],\n",
    "               ['б', 'л', 'з', 'ж', 'ю', 'дд', ''],\n",
    "               ['а', 'к', 'н', 'р', 'п', 'ее', 'ё', 'и', ''],\n",
    "               ['ёё', 'й', 'е', ''],\n",
    "               ['ю', 'д', 'щ', 'з', 'х', 'э', 'жж', ''],\n",
    "               ['д', 'щ', 'х', 'э', 'ж', 'зз', 'с', ''],\n",
    "               ['м', 'а', 'п', 'р', 'т', 'ии', ''],\n",
    "               ['ц', 'ы', 'ф', 'йй',''],\n",
    "               ['а', 'в', 'у', 'е', 'п', 'а', 'кк', ''],\n",
    "               ['ь', 'о', 'г', 'ш', 'щ', 'д', 'б', 'лл', ''],\n",
    "               ['с', 'а', 'п', 'и', 'мм', ''],\n",
    "               ['р', 'п', 'е', 'г', 'о', 'нн', ''],\n",
    "               ['т', 'р', 'н', 'г', 'ш', 'л', 'ь', 'оо', ''],\n",
    "               ['м', 'а', 'к', 'е', 'н', 'р', 'и', 'пп', ''],\n",
    "               ['и', 'п', 'е', 'н', 'г', 'о', 'т', 'рр', 'р', ''],\n",
    "               ['ч', 'в', 'а', 'м', 'сс', ''],\n",
    "               ['и', 'п', 'р', 'о', 'ь', 'тт', ''],\n",
    "               ['в', 'ы', 'ц', 'к', 'а', 'уу', ''],\n",
    "               ['я', 'ч', 'ы', 'ц', 'й', 'фф', ''],\n",
    "               ['ж', 'з', 'ъ', 'э', 'хх', ''],\n",
    "               ['ы', 'ф', 'й', 'у', 'в', 'ы', 'цц', ''],\n",
    "               ['я', 'ф', 'ы', 'в', 'с', 'чч', ''],\n",
    "               ['л', 'о', 'г', 'щ', 'д', 'шш', 'шь', ''],\n",
    "               ['л', 'ш', 'з', 'ж', 'д', 'щщ', 'шь', 'ж', ''],\n",
    "               ['э', 'х', 'ъъ', 'ь', ''],\n",
    "               ['ч', 'я', 'ф', 'й', 'ц', 'у', 'в', 'ыы', ''],\n",
    "               ['т', 'о', 'л', 'б', 'ьь', ''],\n",
    "               ['ж', 'з', 'х', 'ъ', ''],\n",
    "               ['б', 'д', 'ж', 'юю', ''],\n",
    "               ['ф', 'ы', 'ч', 'яя', ''],\n",
    "               ], \n",
    "               index = ['а','б','в','г', 'д', 'е', 'ё', \n",
    "                            'ж', 'з', 'и', 'й', 'к', \n",
    "                            'л', 'м', 'н', 'о', 'п', \n",
    "                            'р', 'с', 'т', 'у', 'ф', \n",
    "                            'х', 'ц', 'ч', 'ш', 'щ', \n",
    "                            'ъ', 'ы', 'ь', 'э', 'ю', 'я'])\n"
   ]
  },
  {
   "cell_type": "markdown",
   "id": "39843dcf",
   "metadata": {},
   "source": [
    "**Импортируем текст**"
   ]
  },
  {
   "cell_type": "code",
   "execution_count": 44,
   "id": "2a202440",
   "metadata": {},
   "outputs": [
    {
     "name": "stdout",
     "output_type": "stream",
     "text": [
      "['что', 'тот', 'быть', 'весь', 'это', 'как', 'она', 'они', 'так', 'сказать', 'этот', 'который', 'может', 'человек', 'один', 'еще', 'такой', 'только', 'себя', 'свое']\n",
      "8714\n"
     ]
    }
   ],
   "source": [
    "import codecs\n",
    "with codecs.open('top10000.txt', 'r', encoding = 'utf-8') as file:\n",
    "#with codecs.open('russian.txt', 'r', encoding = 'windows 1251') as file:\n",
    "    TEXT = file.read().replace('\\n', ' ') # для текста, в котором слова разделены '\\n'\n",
    "    # TEXT = file.read().replace(' ', ' ') # для текста, в котором слова разделены ' '\n",
    "def tokens(text):\n",
    "    return re.findall(r'[а-ё]+', text.lower())\n",
    "list_of_words = tokens(TEXT)\n",
    "\n",
    "# удалим все слова, короче 3 символов (потому что слова из 2х символов неинформативны):\n",
    "tmp = [w for w in list_of_words if len(w) > 2]\n",
    "list_of_words = tmp\n",
    "\n",
    "# пока ограничимся 38701 словами\n",
    "# del list_of_words[:38701]\n",
    "\n",
    "# выведем первые 20 слов\n",
    "print(list_of_words[:20])\n",
    "print(len(list_of_words))"
   ]
  },
  {
   "cell_type": "markdown",
   "id": "4bd35fe6",
   "metadata": {},
   "source": [
    "**Для каждого слова рассчитаем возможыне ошибки на расстоянии 1 или 2. Затем произведем токенизацию**"
   ]
  },
  {
   "cell_type": "code",
   "execution_count": 45,
   "id": "94ac577d",
   "metadata": {},
   "outputs": [
    {
     "name": "stdout",
     "output_type": "stream",
     "text": [
      "Set generation: 0.51 secs\n",
      "    Total size: 517012\n"
     ]
    }
   ],
   "source": [
    "# words = []\n",
    "corpus = [] # все сгенерированные слова\n",
    "labels = [] # метки для классификации в порядке ошибочных слов\n",
    "\n",
    "\n",
    "\n",
    "start = time.time()\n",
    "\n",
    "for item in list_of_words:\n",
    "    errors = distance1(item)#.union(distance2(item))# ??? как оптимизировать - неясно\n",
    "    errors = errors.union(item)\n",
    "    # words.append([item, errors])\n",
    "    #tmp = [w for w in errors if len(w) > 2]\n",
    "    #errors = tmp\n",
    "    corpus += list(errors)\n",
    "    labels += [item]*len(errors)\n",
    "\n",
    "end = time.time()\n",
    "duration = round(end - start, 2)\n",
    "print(\"Set generation: \" + str(duration) + \" secs\")\n",
    "print(\"    Total size:\", len(labels))"
   ]
  },
  {
   "cell_type": "code",
   "execution_count": 46,
   "id": "3cd8d5d3",
   "metadata": {},
   "outputs": [],
   "source": [
    "# сохранение данных, для быстрого анализа в дальнейшем\n",
    "import pickle\n",
    "\n",
    "with open('distance1.data', 'wb') as file:\n",
    "    # сохраняем данные как двоичный поток\n",
    "    pickle.dump([corpus, labels], file)"
   ]
  },
  {
   "cell_type": "code",
   "execution_count": 47,
   "id": "6f47deca",
   "metadata": {},
   "outputs": [
    {
     "data": {
      "text/plain": [
       "['р',\n",
       " 'р0',\n",
       " 'е',\n",
       " 'е1',\n",
       " 'з',\n",
       " 'з2',\n",
       " 'о',\n",
       " 'о3',\n",
       " 'н',\n",
       " 'н4',\n",
       " 'а',\n",
       " 'а5',\n",
       " 'н',\n",
       " 'н6',\n",
       " 'с',\n",
       " 'с7']"
      ]
     },
     "execution_count": 47,
     "metadata": {},
     "output_type": "execute_result"
    }
   ],
   "source": [
    "# токенизация слова на буквы\n",
    "'''\n",
    "def _tokenize(word):\n",
    "    return [a + a for a in word]\n",
    "'''\n",
    "'''\n",
    "def _tokenize(word):\n",
    "    return re.findall(r'[а-ё]', word.lower())\n",
    "\n",
    "'''\n",
    "def _tokenize(word):\n",
    "    out = []\n",
    "    for i in range(len(word)):\n",
    "        out.append(word[i])\n",
    "        out.append(word[i] + str(i))\n",
    "    return out\n",
    "\n",
    "\n",
    "\n",
    "_tokenize('резонанс')"
   ]
  },
  {
   "cell_type": "markdown",
   "id": "5f8312db",
   "metadata": {},
   "source": [
    "**Векторизация текста посредством *TfidfVectorizer (TF-IDF)***"
   ]
  },
  {
   "cell_type": "code",
   "execution_count": 48,
   "id": "34f5af5d",
   "metadata": {},
   "outputs": [],
   "source": [
    "from sklearn.feature_extraction.text import TfidfVectorizer"
   ]
  },
  {
   "cell_type": "code",
   "execution_count": 49,
   "id": "1d5ab93f",
   "metadata": {},
   "outputs": [
    {
     "name": "stdout",
     "output_type": "stream",
     "text": [
      "Vectorization: 5.16 secs\n",
      "Найденных токенов:\n",
      "430\n"
     ]
    }
   ],
   "source": [
    "\n",
    "vectorizer = TfidfVectorizer(tokenizer = lambda x: _tokenize(x))\n",
    "\n",
    "start = time.time()\n",
    "V = vectorizer.fit_transform(corpus)\n",
    "end = time.time()\n",
    "duration = round(end - start, 2)\n",
    "print(\"Vectorization: \" + str(duration) + \" secs\")\n",
    "\n",
    "print(\"Найденных токенов:\")\n",
    "print(len(vectorizer.get_feature_names_out()))\n"
   ]
  },
  {
   "cell_type": "markdown",
   "id": "48245b83",
   "metadata": {},
   "source": [
    "***bool* - векторизация:**"
   ]
  },
  {
   "cell_type": "code",
   "execution_count": 50,
   "id": "800e1d26",
   "metadata": {},
   "outputs": [
    {
     "name": "stdout",
     "output_type": "stream",
     "text": [
      "Найденных токенов:\n",
      "430\n"
     ]
    }
   ],
   "source": [
    "from sklearn.feature_extraction.text import CountVectorizer\n",
    "vectorizer_bin = CountVectorizer(binary = True, tokenizer = lambda x: _tokenize(x))\n",
    "V_bin = vectorizer_bin.fit_transform(corpus)\n",
    "print(\"Найденных токенов:\")\n",
    "print(len(vectorizer_bin.get_feature_names_out()))\n",
    "#print(V_bin.shape())\n",
    "#print(V_bin.toarray())"
   ]
  },
  {
   "cell_type": "markdown",
   "id": "2c4f1a5b",
   "metadata": {},
   "source": [
    "***hash* - векторизация:**"
   ]
  },
  {
   "cell_type": "code",
   "execution_count": 51,
   "id": "9a84d249",
   "metadata": {},
   "outputs": [
    {
     "name": "stderr",
     "output_type": "stream",
     "text": [
      "c:\\Users\\wequalwo\\AppData\\Local\\Programs\\Python\\Python310\\lib\\site-packages\\sklearn\\feature_extraction\\text.py:516: UserWarning: The parameter 'token_pattern' will not be used since 'tokenizer' is not None'\n",
      "  warnings.warn(\n"
     ]
    },
    {
     "name": "stdout",
     "output_type": "stream",
     "text": [
      "Shape:\n",
      "(517012, 430)\n"
     ]
    }
   ],
   "source": [
    "from sklearn.feature_extraction.text import HashingVectorizer\n",
    "vectorizer_hash = HashingVectorizer(n_features = 430, tokenizer = lambda x: _tokenize(x))\n",
    "V_hash = vectorizer_hash.fit_transform(corpus)\n",
    "print(\"Shape:\")\n",
    "print(V_hash.shape)"
   ]
  },
  {
   "cell_type": "code",
   "execution_count": 13,
   "id": "27721f52",
   "metadata": {},
   "outputs": [],
   "source": [
    "# для наглядности создадим dataframe с данными на основе векторизации TF-IDF\n",
    "df = pd.DataFrame(V.toarray(), columns = vectorizer.get_feature_names_out())"
   ]
  },
  {
   "cell_type": "code",
   "execution_count": 14,
   "id": "29badeb9",
   "metadata": {},
   "outputs": [
    {
     "name": "stdout",
     "output_type": "stream",
     "text": [
      "Data size: 517012\n",
      "['чоо', 'чт', 'ыто', 'сто', 'тчо', 'фто', 'вто', 'чио', 'ято', 'чтоо']\n"
     ]
    }
   ],
   "source": [
    "print(\"Data size:\", len(corpus))\n",
    "#print(13573258/len(corpus))\n",
    "print(corpus[:10])"
   ]
  },
  {
   "cell_type": "code",
   "execution_count": 52,
   "id": "28b1ee9e",
   "metadata": {},
   "outputs": [
    {
     "data": {
      "text/html": [
       "<div>\n",
       "<style scoped>\n",
       "    .dataframe tbody tr th:only-of-type {\n",
       "        vertical-align: middle;\n",
       "    }\n",
       "\n",
       "    .dataframe tbody tr th {\n",
       "        vertical-align: top;\n",
       "    }\n",
       "\n",
       "    .dataframe thead th {\n",
       "        text-align: right;\n",
       "    }\n",
       "</style>\n",
       "<table border=\"1\" class=\"dataframe\">\n",
       "  <thead>\n",
       "    <tr style=\"text-align: right;\">\n",
       "      <th></th>\n",
       "      <th>а</th>\n",
       "      <th>а0</th>\n",
       "      <th>а1</th>\n",
       "      <th>а10</th>\n",
       "      <th>а11</th>\n",
       "      <th>а2</th>\n",
       "      <th>а3</th>\n",
       "      <th>а4</th>\n",
       "      <th>а5</th>\n",
       "      <th>а6</th>\n",
       "      <th>...</th>\n",
       "      <th>ё11</th>\n",
       "      <th>ё2</th>\n",
       "      <th>ё3</th>\n",
       "      <th>ё4</th>\n",
       "      <th>ё5</th>\n",
       "      <th>ё6</th>\n",
       "      <th>ё7</th>\n",
       "      <th>ё8</th>\n",
       "      <th>ё9</th>\n",
       "      <th>labels</th>\n",
       "    </tr>\n",
       "  </thead>\n",
       "  <tbody>\n",
       "    <tr>\n",
       "      <th>0</th>\n",
       "      <td>0.0</td>\n",
       "      <td>0.0</td>\n",
       "      <td>0.0</td>\n",
       "      <td>0.0</td>\n",
       "      <td>0.0</td>\n",
       "      <td>0.0</td>\n",
       "      <td>0.0</td>\n",
       "      <td>0.0</td>\n",
       "      <td>0.0</td>\n",
       "      <td>0.0</td>\n",
       "      <td>...</td>\n",
       "      <td>0.0</td>\n",
       "      <td>0.0</td>\n",
       "      <td>0.0</td>\n",
       "      <td>0.0</td>\n",
       "      <td>0.0</td>\n",
       "      <td>0.0</td>\n",
       "      <td>0.0</td>\n",
       "      <td>0.0</td>\n",
       "      <td>0.0</td>\n",
       "      <td>что</td>\n",
       "    </tr>\n",
       "    <tr>\n",
       "      <th>1</th>\n",
       "      <td>0.0</td>\n",
       "      <td>0.0</td>\n",
       "      <td>0.0</td>\n",
       "      <td>0.0</td>\n",
       "      <td>0.0</td>\n",
       "      <td>0.0</td>\n",
       "      <td>0.0</td>\n",
       "      <td>0.0</td>\n",
       "      <td>0.0</td>\n",
       "      <td>0.0</td>\n",
       "      <td>...</td>\n",
       "      <td>0.0</td>\n",
       "      <td>0.0</td>\n",
       "      <td>0.0</td>\n",
       "      <td>0.0</td>\n",
       "      <td>0.0</td>\n",
       "      <td>0.0</td>\n",
       "      <td>0.0</td>\n",
       "      <td>0.0</td>\n",
       "      <td>0.0</td>\n",
       "      <td>что</td>\n",
       "    </tr>\n",
       "    <tr>\n",
       "      <th>2</th>\n",
       "      <td>0.0</td>\n",
       "      <td>0.0</td>\n",
       "      <td>0.0</td>\n",
       "      <td>0.0</td>\n",
       "      <td>0.0</td>\n",
       "      <td>0.0</td>\n",
       "      <td>0.0</td>\n",
       "      <td>0.0</td>\n",
       "      <td>0.0</td>\n",
       "      <td>0.0</td>\n",
       "      <td>...</td>\n",
       "      <td>0.0</td>\n",
       "      <td>0.0</td>\n",
       "      <td>0.0</td>\n",
       "      <td>0.0</td>\n",
       "      <td>0.0</td>\n",
       "      <td>0.0</td>\n",
       "      <td>0.0</td>\n",
       "      <td>0.0</td>\n",
       "      <td>0.0</td>\n",
       "      <td>что</td>\n",
       "    </tr>\n",
       "    <tr>\n",
       "      <th>3</th>\n",
       "      <td>0.0</td>\n",
       "      <td>0.0</td>\n",
       "      <td>0.0</td>\n",
       "      <td>0.0</td>\n",
       "      <td>0.0</td>\n",
       "      <td>0.0</td>\n",
       "      <td>0.0</td>\n",
       "      <td>0.0</td>\n",
       "      <td>0.0</td>\n",
       "      <td>0.0</td>\n",
       "      <td>...</td>\n",
       "      <td>0.0</td>\n",
       "      <td>0.0</td>\n",
       "      <td>0.0</td>\n",
       "      <td>0.0</td>\n",
       "      <td>0.0</td>\n",
       "      <td>0.0</td>\n",
       "      <td>0.0</td>\n",
       "      <td>0.0</td>\n",
       "      <td>0.0</td>\n",
       "      <td>что</td>\n",
       "    </tr>\n",
       "    <tr>\n",
       "      <th>4</th>\n",
       "      <td>0.0</td>\n",
       "      <td>0.0</td>\n",
       "      <td>0.0</td>\n",
       "      <td>0.0</td>\n",
       "      <td>0.0</td>\n",
       "      <td>0.0</td>\n",
       "      <td>0.0</td>\n",
       "      <td>0.0</td>\n",
       "      <td>0.0</td>\n",
       "      <td>0.0</td>\n",
       "      <td>...</td>\n",
       "      <td>0.0</td>\n",
       "      <td>0.0</td>\n",
       "      <td>0.0</td>\n",
       "      <td>0.0</td>\n",
       "      <td>0.0</td>\n",
       "      <td>0.0</td>\n",
       "      <td>0.0</td>\n",
       "      <td>0.0</td>\n",
       "      <td>0.0</td>\n",
       "      <td>что</td>\n",
       "    </tr>\n",
       "    <tr>\n",
       "      <th>...</th>\n",
       "      <td>...</td>\n",
       "      <td>...</td>\n",
       "      <td>...</td>\n",
       "      <td>...</td>\n",
       "      <td>...</td>\n",
       "      <td>...</td>\n",
       "      <td>...</td>\n",
       "      <td>...</td>\n",
       "      <td>...</td>\n",
       "      <td>...</td>\n",
       "      <td>...</td>\n",
       "      <td>...</td>\n",
       "      <td>...</td>\n",
       "      <td>...</td>\n",
       "      <td>...</td>\n",
       "      <td>...</td>\n",
       "      <td>...</td>\n",
       "      <td>...</td>\n",
       "      <td>...</td>\n",
       "      <td>...</td>\n",
       "      <td>...</td>\n",
       "    </tr>\n",
       "    <tr>\n",
       "      <th>517007</th>\n",
       "      <td>0.0</td>\n",
       "      <td>0.0</td>\n",
       "      <td>0.0</td>\n",
       "      <td>0.0</td>\n",
       "      <td>0.0</td>\n",
       "      <td>0.0</td>\n",
       "      <td>0.0</td>\n",
       "      <td>0.0</td>\n",
       "      <td>0.0</td>\n",
       "      <td>0.0</td>\n",
       "      <td>...</td>\n",
       "      <td>0.0</td>\n",
       "      <td>0.0</td>\n",
       "      <td>0.0</td>\n",
       "      <td>0.0</td>\n",
       "      <td>0.0</td>\n",
       "      <td>0.0</td>\n",
       "      <td>0.0</td>\n",
       "      <td>0.0</td>\n",
       "      <td>0.0</td>\n",
       "      <td>яблоко</td>\n",
       "    </tr>\n",
       "    <tr>\n",
       "      <th>517008</th>\n",
       "      <td>0.0</td>\n",
       "      <td>0.0</td>\n",
       "      <td>0.0</td>\n",
       "      <td>0.0</td>\n",
       "      <td>0.0</td>\n",
       "      <td>0.0</td>\n",
       "      <td>0.0</td>\n",
       "      <td>0.0</td>\n",
       "      <td>0.0</td>\n",
       "      <td>0.0</td>\n",
       "      <td>...</td>\n",
       "      <td>0.0</td>\n",
       "      <td>0.0</td>\n",
       "      <td>0.0</td>\n",
       "      <td>0.0</td>\n",
       "      <td>0.0</td>\n",
       "      <td>0.0</td>\n",
       "      <td>0.0</td>\n",
       "      <td>0.0</td>\n",
       "      <td>0.0</td>\n",
       "      <td>яблоко</td>\n",
       "    </tr>\n",
       "    <tr>\n",
       "      <th>517009</th>\n",
       "      <td>0.0</td>\n",
       "      <td>0.0</td>\n",
       "      <td>0.0</td>\n",
       "      <td>0.0</td>\n",
       "      <td>0.0</td>\n",
       "      <td>0.0</td>\n",
       "      <td>0.0</td>\n",
       "      <td>0.0</td>\n",
       "      <td>0.0</td>\n",
       "      <td>0.0</td>\n",
       "      <td>...</td>\n",
       "      <td>0.0</td>\n",
       "      <td>0.0</td>\n",
       "      <td>0.0</td>\n",
       "      <td>0.0</td>\n",
       "      <td>0.0</td>\n",
       "      <td>0.0</td>\n",
       "      <td>0.0</td>\n",
       "      <td>0.0</td>\n",
       "      <td>0.0</td>\n",
       "      <td>яблоко</td>\n",
       "    </tr>\n",
       "    <tr>\n",
       "      <th>517010</th>\n",
       "      <td>0.0</td>\n",
       "      <td>0.0</td>\n",
       "      <td>0.0</td>\n",
       "      <td>0.0</td>\n",
       "      <td>0.0</td>\n",
       "      <td>0.0</td>\n",
       "      <td>0.0</td>\n",
       "      <td>0.0</td>\n",
       "      <td>0.0</td>\n",
       "      <td>0.0</td>\n",
       "      <td>...</td>\n",
       "      <td>0.0</td>\n",
       "      <td>0.0</td>\n",
       "      <td>0.0</td>\n",
       "      <td>0.0</td>\n",
       "      <td>0.0</td>\n",
       "      <td>0.0</td>\n",
       "      <td>0.0</td>\n",
       "      <td>0.0</td>\n",
       "      <td>0.0</td>\n",
       "      <td>яблоко</td>\n",
       "    </tr>\n",
       "    <tr>\n",
       "      <th>517011</th>\n",
       "      <td>0.0</td>\n",
       "      <td>0.0</td>\n",
       "      <td>0.0</td>\n",
       "      <td>0.0</td>\n",
       "      <td>0.0</td>\n",
       "      <td>0.0</td>\n",
       "      <td>0.0</td>\n",
       "      <td>0.0</td>\n",
       "      <td>0.0</td>\n",
       "      <td>0.0</td>\n",
       "      <td>...</td>\n",
       "      <td>0.0</td>\n",
       "      <td>0.0</td>\n",
       "      <td>0.0</td>\n",
       "      <td>0.0</td>\n",
       "      <td>0.0</td>\n",
       "      <td>0.0</td>\n",
       "      <td>0.0</td>\n",
       "      <td>0.0</td>\n",
       "      <td>0.0</td>\n",
       "      <td>яблоко</td>\n",
       "    </tr>\n",
       "  </tbody>\n",
       "</table>\n",
       "<p>517012 rows × 431 columns</p>\n",
       "</div>"
      ],
      "text/plain": [
       "          а   а0   а1  а10  а11   а2   а3   а4   а5   а6  ...  ё11   ё2   ё3  \\\n",
       "0       0.0  0.0  0.0  0.0  0.0  0.0  0.0  0.0  0.0  0.0  ...  0.0  0.0  0.0   \n",
       "1       0.0  0.0  0.0  0.0  0.0  0.0  0.0  0.0  0.0  0.0  ...  0.0  0.0  0.0   \n",
       "2       0.0  0.0  0.0  0.0  0.0  0.0  0.0  0.0  0.0  0.0  ...  0.0  0.0  0.0   \n",
       "3       0.0  0.0  0.0  0.0  0.0  0.0  0.0  0.0  0.0  0.0  ...  0.0  0.0  0.0   \n",
       "4       0.0  0.0  0.0  0.0  0.0  0.0  0.0  0.0  0.0  0.0  ...  0.0  0.0  0.0   \n",
       "...     ...  ...  ...  ...  ...  ...  ...  ...  ...  ...  ...  ...  ...  ...   \n",
       "517007  0.0  0.0  0.0  0.0  0.0  0.0  0.0  0.0  0.0  0.0  ...  0.0  0.0  0.0   \n",
       "517008  0.0  0.0  0.0  0.0  0.0  0.0  0.0  0.0  0.0  0.0  ...  0.0  0.0  0.0   \n",
       "517009  0.0  0.0  0.0  0.0  0.0  0.0  0.0  0.0  0.0  0.0  ...  0.0  0.0  0.0   \n",
       "517010  0.0  0.0  0.0  0.0  0.0  0.0  0.0  0.0  0.0  0.0  ...  0.0  0.0  0.0   \n",
       "517011  0.0  0.0  0.0  0.0  0.0  0.0  0.0  0.0  0.0  0.0  ...  0.0  0.0  0.0   \n",
       "\n",
       "         ё4   ё5   ё6   ё7   ё8   ё9  labels  \n",
       "0       0.0  0.0  0.0  0.0  0.0  0.0     что  \n",
       "1       0.0  0.0  0.0  0.0  0.0  0.0     что  \n",
       "2       0.0  0.0  0.0  0.0  0.0  0.0     что  \n",
       "3       0.0  0.0  0.0  0.0  0.0  0.0     что  \n",
       "4       0.0  0.0  0.0  0.0  0.0  0.0     что  \n",
       "...     ...  ...  ...  ...  ...  ...     ...  \n",
       "517007  0.0  0.0  0.0  0.0  0.0  0.0  яблоко  \n",
       "517008  0.0  0.0  0.0  0.0  0.0  0.0  яблоко  \n",
       "517009  0.0  0.0  0.0  0.0  0.0  0.0  яблоко  \n",
       "517010  0.0  0.0  0.0  0.0  0.0  0.0  яблоко  \n",
       "517011  0.0  0.0  0.0  0.0  0.0  0.0  яблоко  \n",
       "\n",
       "[517012 rows x 431 columns]"
      ]
     },
     "execution_count": 52,
     "metadata": {},
     "output_type": "execute_result"
    }
   ],
   "source": [
    "df['labels'] = labels\n",
    "df"
   ]
  },
  {
   "cell_type": "code",
   "execution_count": 53,
   "id": "4430111a",
   "metadata": {},
   "outputs": [
    {
     "name": "stdout",
     "output_type": "stream",
     "text": [
      "Memory usage is 1782.658 MB\n",
      "Memory usage is 76.630592 MB\n"
     ]
    }
   ],
   "source": [
    "print_memory_usage_of_data_frame(df)\n",
    "get_csr_memory_usage(V)"
   ]
  },
  {
   "cell_type": "code",
   "execution_count": 54,
   "id": "6844b43e",
   "metadata": {},
   "outputs": [],
   "source": [
    "from sklearn.model_selection import train_test_split\n",
    "from sklearn.metrics  import f1_score, accuracy_score, precision_score, recall_score, jaccard_score\n",
    "from sklearn.metrics import mean_absolute_error\n",
    "from sklearn.metrics import mean_squared_error\n",
    "\n",
    "from sklearn.naive_bayes import GaussianNB\n",
    "from sklearn.naive_bayes import MultinomialNB\n",
    "from sklearn.tree import DecisionTreeClassifier\n",
    "from sklearn.naive_bayes import GaussianNB\n",
    "from sklearn.naive_bayes import MultinomialNB\n",
    "from sklearn.naive_bayes import BernoulliNB\n",
    "from sklearn.neighbors import KNeighborsClassifier\n",
    "from sklearn.linear_model import LogisticRegression\n",
    "\n",
    "\n",
    "from sklearn.ensemble import RandomForestClassifier\n",
    "from sklearn.datasets import make_classification"
   ]
  },
  {
   "cell_type": "markdown",
   "id": "da8ee923",
   "metadata": {},
   "source": [
    "## Перейдем к обучению модели"
   ]
  },
  {
   "cell_type": "markdown",
   "id": "52f97459",
   "metadata": {},
   "source": [
    "**Создадим pipeline для более простого тестирования в дальнейшем**"
   ]
  },
  {
   "cell_type": "code",
   "execution_count": 55,
   "id": "34585a76",
   "metadata": {},
   "outputs": [],
   "source": [
    "import pickle\n",
    "# читаем сохраненные данные\n",
    "with open('distance1.data', 'rb') as file:  \n",
    "    # сохраняем данные как двоичный поток\n",
    "    data = pickle.load(file)\n",
    "corpus = data[0]\n",
    "labels = data[1]"
   ]
  },
  {
   "cell_type": "code",
   "execution_count": 56,
   "id": "a0803520",
   "metadata": {},
   "outputs": [],
   "source": [
    "# варианты моделей:\n",
    "# DecisionTreeClassifier()\n",
    "\n",
    "# MultinomialNB()\n",
    "# KNeighborsClassifier()\n",
    "# LogisticRegression()\n",
    "\n",
    "# требует доп настройки\n",
    "# from sklearn.ensemble import RandomForestClassifier\n",
    "# from sklearn.datasets import make_classification\n",
    "\n",
    "## pipline, основанный на TfidfVectorizer и DecisionTreeClassifier()\n",
    "from sklearn.pipeline import Pipeline\n",
    "model_pipeline = Pipeline([\n",
    "    (\"vecorizer\", TfidfVectorizer(tokenizer = lambda x: _tokenize(x))),\n",
    "    (\"model\",     MultinomialNB())\n",
    "]\n",
    ")\n",
    "X = corpus\n",
    "y = labels\n",
    "\n",
    "#LogisticRegression(solver = 'sag', random_state = 42)"
   ]
  },
  {
   "cell_type": "markdown",
   "id": "f2832e96",
   "metadata": {},
   "source": [
    "**обучим модель**"
   ]
  },
  {
   "cell_type": "code",
   "execution_count": 58,
   "id": "34cc7091",
   "metadata": {},
   "outputs": [
    {
     "name": "stdout",
     "output_type": "stream",
     "text": [
      "Train-test split: 0.33 secs\n",
      "Training: 17.07 secs\n"
     ]
    }
   ],
   "source": [
    "start = time.time()\n",
    "X_train, X_test, y_train, y_test = train_test_split(X, y, test_size = 0.3, random_state = 42)\n",
    "end = time.time()\n",
    "duration = round(end - start, 2)\n",
    "print(\"Train-test split: \" + str(duration) + \" secs\")\n",
    "start = time.time()\n",
    "model_pipeline.fit(X_train, y_train)\n",
    "end = time.time()\n",
    "duration = round(end - start, 2)\n",
    "print(\"Training: \" + str(duration) + \" secs\")"
   ]
  },
  {
   "cell_type": "markdown",
   "id": "17a9d8dd",
   "metadata": {},
   "source": [
    "**Теперь протестируем обученную модель**"
   ]
  },
  {
   "cell_type": "code",
   "execution_count": 59,
   "id": "75fb980c",
   "metadata": {},
   "outputs": [
    {
     "name": "stdout",
     "output_type": "stream",
     "text": [
      "Testing: 4.33 secs\n"
     ]
    }
   ],
   "source": [
    "start = time.time()\n",
    "pred = model_pipeline.predict(X_test)\n",
    "end = time.time()\n",
    "duration = round(end - start, 2)\n",
    "print(\"Testing: \" + str(duration) + \" secs\")"
   ]
  },
  {
   "cell_type": "code",
   "execution_count": 60,
   "id": "4f91a1c9",
   "metadata": {},
   "outputs": [
    {
     "name": "stdout",
     "output_type": "stream",
     "text": [
      " accuracy: 0.838011914586342\n",
      "precision: 0.9051902923536509\n",
      "   recall: 0.8031043114571247\n",
      "  jaccard: 0.7373575537321745\n",
      "       f1: 0.8292856930306153\n"
     ]
    }
   ],
   "source": [
    "print(' accuracy:', accuracy_score(y_test, pred))\n",
    "print('precision:', precision_score(y_test, pred, average = 'macro', zero_division=0))\n",
    "print('   recall:', recall_score(y_test, pred, average = 'macro', zero_division=0))\n",
    "print('  jaccard:', jaccard_score(y_test, pred, average = 'macro', zero_division=0))\n",
    "print('       f1:', f1_score(y_test, pred, average = 'macro', zero_division=0))"
   ]
  },
  {
   "cell_type": "markdown",
   "id": "fe1404b1",
   "metadata": {},
   "source": [
    "**Финт ушами: тестируем модель на данных, в которых допустимо расстояние 2**"
   ]
  },
  {
   "cell_type": "code",
   "execution_count": 61,
   "id": "6ca12b79",
   "metadata": {},
   "outputs": [],
   "source": [
    "# читаем сохраненные данные\n",
    "with open('distance2.data', 'rb') as file:  \n",
    "    # сохраняем данные как двоичный поток\n",
    "    data = pickle.load(file)"
   ]
  },
  {
   "cell_type": "code",
   "execution_count": 64,
   "id": "da40241b",
   "metadata": {},
   "outputs": [],
   "source": [
    "X2 = data[0]\n",
    "y2 = data[1]\n",
    "X_train2, X_test2, y_train2, y_test2 = train_test_split(X2, y2, test_size = 0.02, random_state = 42)"
   ]
  },
  {
   "cell_type": "code",
   "execution_count": 65,
   "id": "4a82d8d3",
   "metadata": {},
   "outputs": [
    {
     "name": "stdout",
     "output_type": "stream",
     "text": [
      "Testing: 14.73 secs\n"
     ]
    }
   ],
   "source": [
    "start = time.time()\n",
    "pred2 = model_pipeline.predict(X_test2)\n",
    "end = time.time()\n",
    "duration = round(end - start, 2)\n",
    "print(\"Testing: \" + str(duration) + \" secs\")"
   ]
  },
  {
   "cell_type": "code",
   "execution_count": 67,
   "id": "82ed0314",
   "metadata": {},
   "outputs": [
    {
     "name": "stdout",
     "output_type": "stream",
     "text": [
      " accuracy: 0.8676181246879864\n",
      "precision: 0.8058546754440171\n",
      "   recall: 0.7610693370628323\n",
      "  jaccard: 0.6656015158602356\n",
      "       f1: 0.7674963388145969\n"
     ]
    }
   ],
   "source": [
    "print(' accuracy:', accuracy_score(y_test2, pred2))\n",
    "print('precision:', precision_score(y_test2, pred2, average = 'macro', zero_division=0))\n",
    "print('   recall:', recall_score(y_test2, pred2, average = 'macro', zero_division=0))\n",
    "print('  jaccard:', jaccard_score(y_test2, pred2, average = 'macro', zero_division=0))\n",
    "print('       f1:', f1_score(y_test2, pred2, average = 'macro', zero_division=0))"
   ]
  },
  {
   "cell_type": "markdown",
   "id": "e13bc7cf",
   "metadata": {},
   "source": [
    "## Проведем \"живой\" тест на модели"
   ]
  },
  {
   "cell_type": "code",
   "execution_count": 18,
   "id": "0ded9cb6",
   "metadata": {},
   "outputs": [
    {
     "name": "stdout",
     "output_type": "stream",
     "text": [
      "быть или не быть "
     ]
    }
   ],
   "source": [
    "pins = 'быь иьи не бвть'\n",
    "pins = re.findall(r'[а-ё]+', pins.lower())\n",
    "\n",
    "\n",
    "for pin in pins:\n",
    "    if len(pin) > 2:\n",
    "        print(model_pipeline.predict([pin])[0], end = ' ')\n",
    "    else:\n",
    "        print(pin, end = ' ')"
   ]
  },
  {
   "cell_type": "code",
   "execution_count": 75,
   "id": "dc2d5649",
   "metadata": {},
   "outputs": [
    {
     "name": "stdout",
     "output_type": "stream",
     "text": [
      "['группа']\n"
     ]
    }
   ],
   "source": [
    "print(model_pipeline.predict(['грфпрут']))"
   ]
  },
  {
   "cell_type": "markdown",
   "id": "c1abb983",
   "metadata": {},
   "source": [
    "## bin"
   ]
  },
  {
   "cell_type": "code",
   "execution_count": null,
   "id": "24d8cb4d",
   "metadata": {},
   "outputs": [],
   "source": [
    "def convert_to_sparse_pandas(df, exclude_columns = []):\n",
    "    df = df.copy()\n",
    "    exclude_columns = set(exclude_columns)\n",
    "\n",
    "    for (columnName, columnData) in df.iteritems():\n",
    "        if columnName in exclude_columns:\n",
    "            continue\n",
    "        df[columnName] = pd.arrays.SparseArray(columnData.values, dtype = np.float16)\n",
    "\n",
    "    return df\n",
    "\n",
    "df_sparse = convert_to_sparse_pandas(df, exclude_columns = [\"label\"])\n",
    "# display(df_sparse.dtypes)\n",
    "print_memory_usage_of_data_frame(df_sparse)"
   ]
  },
  {
   "cell_type": "code",
   "execution_count": null,
   "id": "bffcb3cd",
   "metadata": {},
   "outputs": [
    {
     "name": "stdout",
     "output_type": "stream",
     "text": [
      "0.6571622078283824\n",
      "0.5426987035755111\n",
      "53.354150671547565\n"
     ]
    }
   ],
   "source": [
    "from sklearn.metrics import mean_absolute_error\n",
    "from sklearn.metrics import r2_score\n",
    "\n",
    "print(accuracy_score(y_test, pred))\n",
    "print(f1_score(y_test, pred, average = 'macro'))\n",
    "\n",
    "print(mean_absolute_error(y_test, pred))"
   ]
  },
  {
   "cell_type": "code",
   "execution_count": null,
   "id": "344750e0",
   "metadata": {},
   "outputs": [
    {
     "name": "stdout",
     "output_type": "stream",
     "text": [
      "X:\n",
      "Memory usage is 233.391 MB\n",
      "X_sparse:\n",
      "Memory usage is 175.044 MB\n",
      "X_csr:\n",
      "Memory usage is 68.581552 MB\n",
      "X_binary:\n",
      "Memory usage is 68.581552 MB\n"
     ]
    }
   ],
   "source": [
    "y = df['label']\n",
    "X = df[df.columns.difference(['label'])]\n",
    "\n",
    "y_sparse = df_sparse['label']\n",
    "X_sparse = df_sparse[df_sparse.columns.difference(['label'])]\n",
    "\n",
    "y_csr = df['label']\n",
    "X_csr = V\n",
    "\n",
    "y_binary = df['label']\n",
    "X_binary = V_bin\n",
    "\n",
    "print('X:')\n",
    "print_memory_usage_of_data_frame(X)\n",
    "print('X_sparse:')\n",
    "print_memory_usage_of_data_frame(X_sparse)\n",
    "print('X_csr:')\n",
    "get_csr_memory_usage(X_csr)\n",
    "print('X_binary:')\n",
    "get_csr_memory_usage(X_binary)"
   ]
  },
  {
   "cell_type": "code",
   "execution_count": null,
   "id": "a331e81e",
   "metadata": {},
   "outputs": [],
   "source": [
    "def test(mod, Xtest, Ytest):\n",
    "    start = time.time()\n",
    "    pred = mod.predict(Xtest)\n",
    "    end = time.time()\n",
    "    duration = round(end - start, 2)\n",
    "    print(\"Testing: \" + str(duration) + \" secs\")\n",
    "    print('accuracy:', accuracy_score(Ytest, pred))\n",
    "    print('      f1:', f1_score(Ytest, pred, average = 'macro'))\n",
    "    print('    mean:', mean_absolute_error(Ytest, pred))\n",
    "    print(\"\\n\")"
   ]
  }
 ],
 "metadata": {
  "interpreter": {
   "hash": "87852089012c4b81b9af9dc676d2b889d7d3b7bd761d748065844c07d5d6aa6d"
  },
  "kernelspec": {
   "display_name": "Python 3.10.4 64-bit",
   "language": "python",
   "name": "python3"
  },
  "language_info": {
   "codemirror_mode": {
    "name": "ipython",
    "version": 3
   },
   "file_extension": ".py",
   "mimetype": "text/x-python",
   "name": "python",
   "nbconvert_exporter": "python",
   "pygments_lexer": "ipython3",
   "version": "3.10.4"
  }
 },
 "nbformat": 4,
 "nbformat_minor": 5
}
